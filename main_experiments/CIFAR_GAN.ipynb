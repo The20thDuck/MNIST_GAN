{
  "cells": [
    {
      "cell_type": "markdown",
      "metadata": {
        "id": "view-in-github",
        "colab_type": "text"
      },
      "source": [
        "<a href=\"https://colab.research.google.com/github/The20thDuck/Neuro-140-Project/blob/main/main_experiments/CIFAR_GAN.ipynb\" target=\"_parent\"><img src=\"https://colab.research.google.com/assets/colab-badge.svg\" alt=\"Open In Colab\"/></a>"
      ]
    },
    {
      "cell_type": "code",
      "execution_count": null,
      "metadata": {
        "id": "nWSTlMOZEhNP"
      },
      "outputs": [],
      "source": [
        "import torch as t\n",
        "import torchvision\n",
        "from tqdm import tqdm\n",
        "import torchvision.transforms as transforms\n",
        "import matplotlib.pyplot as plt\n",
        "import matplotlib\n",
        "from matplotlib.colors import Colormap\n",
        "!pip install wandb -qqq\n",
        "import wandb"
      ]
    },
    {
      "cell_type": "code",
      "execution_count": null,
      "metadata": {
        "colab": {
          "base_uri": "https://localhost:8080/"
        },
        "id": "xFEYcUZbEnpa",
        "outputId": "78ae1096-4a74-41a2-ff68-7e3d620213ed"
      },
      "outputs": [
        {
          "output_type": "stream",
          "name": "stdout",
          "text": [
            "Files already downloaded and verified\n",
            "Files already downloaded and verified\n"
          ]
        }
      ],
      "source": [
        "# train_data = torchvision.datasets.FashionMNIST(\"data\", train=True, transform=transforms.Compose([transforms.ToTensor(), transforms.Normalize([0.5], [0.5])]), download=True)\n",
        "# train_loader = t.utils.data.DataLoader(train_data, batch_size = 128, shuffle=True, num_workers=2)\n",
        "batch_size = 128\n",
        "transform = transforms.Compose(\n",
        "    [transforms.ToTensor(),\n",
        "     transforms.Normalize((0.5, 0.5, 0.5), (0.5, 0.5, 0.5))])\n",
        "train_data = torchvision.datasets.CIFAR10(root='./data', train=True,\n",
        "                                        download=True, transform=transform)\n",
        "test_data = torchvision.datasets.CIFAR10(root='./data', train=False,\n",
        "                                        download=True, transform=transform)\n",
        "getloader = lambda x: t.utils.data.DataLoader(x, batch_size = batch_size, shuffle=True, num_workers=2)\n",
        "train_loader = getloader(train_data)\n",
        "test_loader = getloader(test_data)"
      ]
    },
    {
      "cell_type": "code",
      "execution_count": null,
      "metadata": {
        "colab": {
          "base_uri": "https://localhost:8080/",
          "height": 284
        },
        "id": "irR9HG8qFoZz",
        "outputId": "6889d555-af38-42f5-8691-9ae137ddc20b"
      },
      "outputs": [
        {
          "output_type": "execute_result",
          "data": {
            "text/plain": [
              "<matplotlib.image.AxesImage at 0x7fc9ab263450>"
            ]
          },
          "metadata": {},
          "execution_count": 19
        },
        {
          "output_type": "display_data",
          "data": {
            "text/plain": [
              "<Figure size 432x288 with 1 Axes>"
            ],
            "image/png": "[encoded data removed]"
          },
          "metadata": {
            "needs_background": "light"
          }
        }
      ],
      "source": [
        "plt.imshow(transforms.ToPILImage()(transforms.Normalize((-1, -1, -1), (2, 2, 2))(train_data[0][0].squeeze())))"
      ]
    },
    {
      "cell_type": "code",
      "execution_count": null,
      "metadata": {
        "colab": {
          "base_uri": "https://localhost:8080/"
        },
        "id": "OL6meaQAkXJV",
        "outputId": "b9623a05-60a9-4df1-c934-cd645f83af14"
      },
      "outputs": [
        {
          "output_type": "stream",
          "name": "stdout",
          "text": [
            "Requirement already satisfied: einops in /usr/local/lib/python3.7/dist-packages (0.4.1)\n"
          ]
        }
      ],
      "source": [
        "!pip install einops\n",
        "!pip install pytorch-ignite pytorch-fid -q\n"
      ]
    },
    {
      "cell_type": "code",
      "execution_count": null,
      "metadata": {
        "id": "L72Wx4DYFrBX"
      },
      "outputs": [],
      "source": [
        "import einops\n",
        "ngc = 64\n",
        "latent_size = 100\n",
        "num_classes = 10\n",
        "emb_size = 128\n",
        "in_channels = 3\n",
        "wand_b = True\n",
        "img_size = 32\n",
        "\n",
        "class Generator(t.nn.Module):\n",
        "  def __init__(self, \n",
        "               latent_size=latent_size, \n",
        "               emb_size = emb_size, \n",
        "               nhead=8,\n",
        "               L1 = 4,\n",
        "               L2 = 4,\n",
        "               L3 = 2,\n",
        "               img_size = img_size,\n",
        "               in_channels=in_channels):\n",
        "    super().__init__()\n",
        "    self.emb_size = emb_size\n",
        "    self.img_size = img_size\n",
        "    # self.latent_size = latent_size\n",
        "    self.linear1 = t.nn.Linear(latent_size, emb_size*(img_size//4)**2)\n",
        "    self.pos_emb1 = t.nn.Parameter(t.randn(1, (img_size//4)**2, emb_size))\n",
        "    self.block1 = t.nn.Sequential(\n",
        "        *[t.nn.TransformerEncoderLayer(\n",
        "        emb_size,\n",
        "        nhead=nhead, \n",
        "        dim_feedforward=emb_size*4, \n",
        "        activation=\"gelu\",\n",
        "        norm_first=True,\n",
        "        batch_first=True, \n",
        "        dropout=0., \n",
        "        layer_norm_eps=1e-12\n",
        "      ) for _ in range(L1)]\n",
        "    )\n",
        "    self.pixel1 = t.nn.PixelShuffle(2)\n",
        "    self.block2 = t.nn.Sequential(\n",
        "        *[t.nn.TransformerEncoderLayer(\n",
        "        emb_size//4,\n",
        "        nhead=nhead, \n",
        "        dim_feedforward=emb_size, \n",
        "        activation=\"gelu\",\n",
        "        norm_first=True,\n",
        "        batch_first=True, \n",
        "        dropout=0., \n",
        "        layer_norm_eps=1e-12\n",
        "      ) for _ in range(L2)]\n",
        "    )\n",
        "    self.pixel2 = t.nn.PixelShuffle(2)\n",
        "    self.block3 = t.nn.Sequential(\n",
        "        *[t.nn.TransformerEncoderLayer(\n",
        "        emb_size//16,\n",
        "        nhead=nhead, \n",
        "        dim_feedforward=emb_size, \n",
        "        activation=\"gelu\",\n",
        "        norm_first=True,\n",
        "        batch_first=True, \n",
        "        dropout=0., \n",
        "        layer_norm_eps=1e-12\n",
        "      ) for _ in range(L3)]\n",
        "    )\n",
        "    self.project = t.nn.Linear(emb_size//16, in_channels)\n",
        "    self.tanh = t.nn.Tanh()\n",
        "\n",
        "  def forward(self, z):\n",
        "    b = z.shape[0]\n",
        "    emb = self.linear1(z).view((b, (self.img_size//4)**2, self.emb_size))\n",
        "    emb = self.block1(emb + self.pos_emb1)\n",
        "    emb_to_pixel = \"b (h w) c -> b c h w\"\n",
        "    pixel_to_emb = \"b c h w -> b (h w) c\"\n",
        "\n",
        "    pixels = einops.rearrange(emb, emb_to_pixel, h = self.img_size//4)\n",
        "    pixels = self.pixel1(pixels)\n",
        "    emb = einops.rearrange(pixels, pixel_to_emb, h = self.img_size//2)\n",
        "    emb = self.block2(emb)\n",
        "    pixels = einops.rearrange(emb, emb_to_pixel, h = self.img_size//2)\n",
        "    pixels = self.pixel2(pixels)\n",
        "    emb = einops.rearrange(pixels, pixel_to_emb, h = self.img_size)\n",
        "    emb = self.block3(emb)\n",
        "    emb = self.project(emb)\n",
        "    pixels = einops.rearrange(emb, emb_to_pixel, h = self.img_size)\n",
        "    return self.tanh(pixels)\n",
        "\n",
        "class Generator_Conv(t.nn.Module):\n",
        "  def __init__(self, latent_size=latent_size, num_classes = num_classes,  in_channels = in_channels):\n",
        "    super().__init__()\n",
        "    self.layers = t.nn.Sequential(\n",
        "        t.nn.ConvTranspose2d(latent_size, ngc*4, 4, 1, 0),\n",
        "        t.nn.BatchNorm2d(ngc*4),\n",
        "        t.nn.ReLU(),\n",
        "        t.nn.ConvTranspose2d(ngc*4, ngc*2, 4, 2, 1),\n",
        "        t.nn.BatchNorm2d(ngc*2),\n",
        "        t.nn.ReLU(),\n",
        "        t.nn.ConvTranspose2d(ngc*2, ngc*1, 4, 2, 1),\n",
        "        t.nn.BatchNorm2d(ngc),\n",
        "        t.nn.ReLU(),\n",
        "        t.nn.ConvTranspose2d(ngc*1, in_channels, 4, 2, 1),\n",
        "        t.nn.Tanh()\n",
        "    )\n",
        "  def forward(self, z):\n",
        "    return self.layers(z.unsqueeze(-1).unsqueeze(-1))\n",
        "\n",
        "class PatchEmbedding(t.nn.Module):\n",
        "  def __init__(self, in_channels, patch_size, emb_size, img_size, cls = True):\n",
        "    super().__init__()\n",
        "    self.cls = cls\n",
        "    self.n = (img_size//patch_size)**2\n",
        "    self.emb_size = emb_size\n",
        "    if cls:\n",
        "      self.cls_token = t.nn.Parameter(t.randn(1, 1, emb_size)) # b, n, emb_size. Add to the list of module params\n",
        "      self.position_embeddings = t.nn.Parameter(t.randn(1, self.n + 1, emb_size)) # +1 for cls\n",
        "    else:\n",
        "      self.position_embeddings = t.nn.Parameter(t.randn(1, self.n, emb_size))\n",
        "\n",
        "    self.projection = t.nn.Conv2d(in_channels, emb_size, patch_size, patch_size, 0)\n",
        "\n",
        "  def forward(self, inputs):\n",
        "    token_embeddings = einops.rearrange(self.projection(inputs), 'b c h w -> b (h w) c')\n",
        "    b = inputs.shape[0]\n",
        "    if self.cls:\n",
        "      cls_embeddings = self.cls_token.repeat((b, 1, 1))\n",
        "      # print(cls_embeddings.shape, token_embeddings.shape, self.position_embeddings.shape)\n",
        "      return t.cat((cls_embeddings, token_embeddings), dim = 1) + self.position_embeddings\n",
        "    else:\n",
        "      return token_embeddings + self.position_embeddings\n",
        "\n",
        "class ClassificationHead(t.nn.Module):\n",
        "  def __init__(self, num_classes, emb_size):\n",
        "    super().__init__()\n",
        "    self.ln = t.nn.LayerNorm((emb_size,), eps = 1e-12)\n",
        "    self.layer = t.nn.Linear(emb_size, num_classes)\n",
        "\n",
        "  def forward(self, x):\n",
        "    return self.layer(self.ln(x)[:,0,:])\n",
        "\n",
        "\n",
        "class Discriminator(t.nn.Module):\n",
        "  def __init__(self, in_channels: int = in_channels, patch_size: int = 2, emb_size: int = emb_size, nhead=8, img_size=img_size, num_classes=1, L1 = 3, L2 = 3, from_hugging = False):\n",
        "    super().__init__()\n",
        "    self.img_size = img_size\n",
        "    self.patch_emb1 = PatchEmbedding(in_channels, patch_size, emb_size, img_size, cls=False)\n",
        "    self.patch_emb2 = PatchEmbedding(in_channels, patch_size*2, emb_size, img_size, cls=False)\n",
        "    self.cls_token = t.nn.Parameter(t.randn(1, 1, emb_size*2))\n",
        "    # self.from_hugging = from_hugging\n",
        "    # if from_hugging:\n",
        "    #   config = ViTConfig(hidden_size=emb_size, num_hidden_layers = L, num_attention_heads = nhead, intermediate_size=emb_size*4, patch_size=patch_size, image_size=imgsize, encoder_stride=patch_size)\n",
        "    #   self.encoder = ViTForImageClassification(config).vit.encoder\n",
        "    # else:\n",
        "    self.block1 = t.nn.Sequential(*[\n",
        "      t.nn.TransformerEncoderLayer(\n",
        "        emb_size,\n",
        "        nhead=nhead, \n",
        "        dim_feedforward=emb_size*4, \n",
        "        activation=\"gelu\",\n",
        "        norm_first=True,\n",
        "        batch_first=True, \n",
        "        dropout=0., \n",
        "        layer_norm_eps=1e-12\n",
        "      ) for _ in range(L1)])\n",
        "    self.avgpool = t.nn.AvgPool2d(2)\n",
        "    self.block2 = t.nn.Sequential(*[\n",
        "      t.nn.TransformerEncoderLayer(\n",
        "        emb_size*2,\n",
        "        nhead=nhead, \n",
        "        dim_feedforward=emb_size*4, \n",
        "        activation=\"gelu\",\n",
        "        norm_first=True,\n",
        "        batch_first=True, \n",
        "        dropout=0., \n",
        "        layer_norm_eps=1e-12\n",
        "      ) for _ in range(L2)])\n",
        "    self.classifier = ClassificationHead(num_classes, emb_size=emb_size*2)\n",
        "\n",
        "  def forward(self, x):\n",
        "    emb1 = self.patch_emb1(x)\n",
        "    stage1 = self.block1(emb1)\n",
        "    emb_to_pixel = \"b (h w) c -> b c h w\"\n",
        "    pixel_to_emb = \"b c h w -> b (h w) c\"\n",
        "    stage1 = einops.rearrange(stage1, emb_to_pixel, h = self.img_size//2)\n",
        "    stage1 = self.avgpool(stage1)\n",
        "    stage1 = einops.rearrange(stage1, pixel_to_emb, h = self.img_size//4)\n",
        "    emb2 = self.patch_emb2(x)\n",
        "    emb2 = t.cat((emb2, stage1), dim = -1)\n",
        "    b = x.shape[0]\n",
        "    cls_embeddings = self.cls_token.repeat((b, 1, 1))\n",
        "    emb2 = t.cat((cls_embeddings, emb2), dim = 1)\n",
        "    emb2 = self.block2(emb2)\n",
        "    return t.sigmoid(self.classifier(emb2)).flatten()\n",
        "    \n",
        "\n",
        "class Discriminator_Conv(t.nn.Module):\n",
        "  def __init__(self, num_classes=num_classes, in_channels = in_channels):\n",
        "    super().__init__()\n",
        "    self.layers = t.nn.Sequential(\n",
        "        t.nn.Conv2d(in_channels, ngc, 4, 2, 1),\n",
        "        t.nn.BatchNorm2d(ngc*1),\n",
        "        t.nn.LeakyReLU(0.2),\n",
        "        t.nn.Conv2d(ngc*1, ngc*2, 4, 2, 1),\n",
        "        t.nn.BatchNorm2d(ngc*2),\n",
        "        t.nn.LeakyReLU(0.2),\n",
        "        t.nn.Conv2d(ngc*2, ngc*4, 4, 2, 1),\n",
        "        t.nn.BatchNorm2d(ngc*4),\n",
        "        t.nn.LeakyReLU(0.2),\n",
        "        t.nn.Conv2d(ngc*4, 1, 4, 1, 0),\n",
        "        t.nn.Sigmoid()\n",
        "    )\n",
        "  def forward(self, x):\n",
        "    return self.layers(x).flatten()\n"
      ]
    },
    {
      "cell_type": "code",
      "execution_count": null,
      "metadata": {
        "colab": {
          "base_uri": "https://localhost:8080/"
        },
        "id": "BThcy-7muTqa",
        "outputId": "19f687a5-eb52-4b67-acf8-3090aa918c48"
      },
      "outputs": [
        {
          "output_type": "execute_result",
          "data": {
            "text/plain": [
              "True"
            ]
          },
          "metadata": {},
          "execution_count": 22
        }
      ],
      "source": [
        "wandb.login()"
      ]
    },
    {
      "cell_type": "code",
      "execution_count": null,
      "metadata": {
        "id": "h2cJCyxtI37g"
      },
      "outputs": [],
      "source": [
        "\n",
        "\n",
        "# arch = \"Transformer\"\n",
        "\n",
        "# if wand_b:\n",
        "#   wandb.init(\n",
        "#       # Set the project where this run will be logged\n",
        "#       project=\"Neuro-140\", \n",
        "#       # We pass a run name (otherwise it’ll be randomly assigned, like sunshine-lollypop-10)\n",
        "#       name=f\"transformer_gen_{run}\", \n",
        "#       # Track hyperparameters and run metadata\n",
        "#       config={\n",
        "#       \"learning_rate\": lr,\n",
        "#       \"emb_size\": emb_size,\n",
        "#       \"architecture\": arch\n",
        "#       })"
      ]
    },
    {
      "cell_type": "code",
      "execution_count": null,
      "metadata": {
        "id": "NU96ucC_NLaE"
      },
      "outputs": [],
      "source": [
        "from pytorch_fid.inception import InceptionV3\n",
        "\n",
        "device = \"cuda\"\n",
        "dims = 2048\n",
        "block_idx = InceptionV3.BLOCK_INDEX_BY_DIM[dims]\n",
        "model = InceptionV3([block_idx]).to(device)\n",
        "\n",
        "class WrapperInceptionV3(t.nn.Module):\n",
        "    \n",
        "    def __init__(self, fid_incv3):\n",
        "        super().__init__()\n",
        "        self.fid_incv3 = fid_incv3\n",
        "    \n",
        "    @t.no_grad()\n",
        "    def forward(self, x):\n",
        "        y = self.fid_incv3(x)\n",
        "        y = y[0]\n",
        "        y = y[:, :, 0, 0]\n",
        "        return y\n",
        "\n",
        "wrapper_model = WrapperInceptionV3(model)\n",
        "wrapper_model.eval();"
      ]
    },
    {
      "cell_type": "code",
      "execution_count": null,
      "metadata": {
        "id": "XjyKp-ovN6Ra"
      },
      "outputs": [],
      "source": [
        "from ignite.metrics import FID\n",
        "from ignite.engine import Engine\n",
        "import ignite.distributed as idist\n",
        "def process_function(engine, batch):\n",
        "  return batch\n",
        "\n",
        "from torchvision import transforms\n",
        "preprocess = transforms.Compose([\n",
        "    transforms.Resize(299),\n",
        "    transforms.CenterCrop(299),\n",
        "    # transforms.Normalize(mean=[0.485, 0.456, 0.406], std=[0.229, 0.224, 0.225]),\n",
        "])\n",
        "engine = Engine(process_function)\n",
        "metric = FID(num_features=dims, feature_extractor=wrapper_model, device=idist.device())\n",
        "metric.attach(engine, \"fid\")"
      ]
    },
    {
      "cell_type": "code",
      "execution_count": null,
      "metadata": {
        "id": "AjmnGIIzOS9J"
      },
      "outputs": [],
      "source": [
        "def calc_fid(metric, gen, latent_size):\n",
        "  metric.reset()\n",
        "  gen.eval()\n",
        "  with t.no_grad():\n",
        "    for i, (x, y) in enumerate(tqdm(train_loader)):\n",
        "      b = x.shape[0]\n",
        "      z = t.randn(b, latent_size).cuda()\n",
        "      gz = gen(z)\n",
        "      if in_channels == 1:\n",
        "        gz = t.tile(gz, (1, 3, 1, 1))\n",
        "        x = t.tile(x, (1, 3, 1, 1))\n",
        "      gz_resize = preprocess(gz)\n",
        "      x_resize = preprocess(x)\n",
        "      metric.update([x_resize, gz_resize])\n",
        "      if i == 100:\n",
        "        break\n",
        "  gen.train()\n",
        "  return (metric.compute())"
      ]
    },
    {
      "cell_type": "code",
      "execution_count": null,
      "metadata": {
        "id": "GUKaydBw8F8f"
      },
      "outputs": [],
      "source": [
        "# wandb.finish()"
      ]
    },
    {
      "cell_type": "code",
      "execution_count": null,
      "metadata": {
        "id": "GGrehfZstkLS"
      },
      "outputs": [],
      "source": [
        "# Initialize Sweep \n",
        "sweep_config = {\n",
        "  \"method\": \"grid\",\n",
        "  \"parameters\": {\n",
        "      \"lr\": {\n",
        "          \"values\": [1e-4, 3e-5, 1e-5]\n",
        "      },\n",
        "      \"gen_emb_size\": {\n",
        "          \"value\": 256\n",
        "      },\n",
        "      \"disc_emb_size\": {\n",
        "          \"value\": 128\n",
        "      },\n",
        "      \"latent_size\": {\n",
        "          \"value\": 100\n",
        "      },\n",
        "      \"gen\": {\n",
        "          \"values\": [\"transformer\", \"conv\"]\n",
        "      },\n",
        "      \"disc\": {\n",
        "          \"value\": \"transformer\"\n",
        "      },\n",
        "      \"epochs\": {\n",
        "          \"value\": 50\n",
        "      }\n",
        "  }\n",
        "}\n",
        "# sweep_id = wandb.sweep(sweep_config, project=\"CIFAR-transformer\")"
      ]
    },
    {
      "cell_type": "code",
      "execution_count": null,
      "metadata": {
        "id": "GEc-3RT8aZqm"
      },
      "outputs": [],
      "source": [
        "def train(config, wand_b = True):\n",
        "    lr = config.lr\n",
        "    beta1 = 0.5\n",
        "    if config.gen == \"conv\":\n",
        "      gen = Generator_Conv(latent_size=config.latent_size).cuda()\n",
        "    else:\n",
        "      gen = Generator(latent_size=config.latent_size, emb_size=config.gen_emb_size).cuda()\n",
        "    if config.disc == \"conv\":\n",
        "      disc = Discriminator_Conv().cuda()\n",
        "    else:\n",
        "      disc = Discriminator(emb_size=config.disc_emb_size).cuda()\n",
        "    optim_g = t.optim.Adam(gen.parameters(), lr=lr, betas=(beta1, 0.999))\n",
        "    optim_d = t.optim.Adam(disc.parameters(), lr=lr, betas=(beta1, 0.999))\n",
        "    criterion = t.nn.BCELoss()\n",
        "\n",
        "    iter = 0\n",
        "    epoch = 0\n",
        "    fixed_z = t.randn(10, config.latent_size).cuda()\n",
        "\n",
        "    # begin training\n",
        "    num_epochs = config.epochs\n",
        "    real_label = 1.\n",
        "    fake_label = 0.\n",
        "\n",
        "\n",
        "    d_losses = []\n",
        "    g_losses = []\n",
        "    dxs = []\n",
        "    dgzs = []\n",
        "    for e in range(num_epochs):\n",
        "      epoch += 1\n",
        "      for step, (x, _) in enumerate(tqdm(train_loader)):\n",
        "        iter += 1\n",
        "        # lab = t.nn.functional.one_hot(y.cuda(), num_classes = num_classes).float()\n",
        "        # update G\n",
        "        gen.zero_grad()\n",
        "        disc.zero_grad()\n",
        "        b = x.shape[0]\n",
        "        with t.no_grad():\n",
        "          z = t.randn(b, config.latent_size).cuda()\n",
        "        gz = gen(z)\n",
        "        dgz = disc(gz)\n",
        "        \n",
        "        g_loss = criterion(dgz, t.full((b,), real_label).cuda())\n",
        "        g_losses.append(g_loss.item())\n",
        "        g_loss.backward()\n",
        "        optim_g.step()\n",
        "        # update D\n",
        "        disc.zero_grad()\n",
        "        dx = disc(x.cuda())\n",
        "        dgz = disc(gz.detach())\n",
        "        dxs.append(dx.detach())\n",
        "        dgzs.append(dgz.detach())\n",
        "\n",
        "        d_loss = criterion(dgz, t.full((b,), fake_label).cuda()) + criterion(dx, t.full((b,), real_label).cuda())\n",
        "        d_losses.append(d_loss.item())\n",
        "        d_loss.backward()\n",
        "        optim_d.step()\n",
        "\n",
        "        if iter % 100 == 0:\n",
        "          L_g = t.tensor(g_losses[-100:]).mean()\n",
        "          L_d = t.tensor(d_losses[-100:]).mean()\n",
        "          dx_mean = t.cat(dxs[-100:]).mean().item()\n",
        "          dgz_mean = t.cat(dgzs[-100:]).mean().item()\n",
        "          d_losses = []\n",
        "          g_losses = []\n",
        "          dxs = []\n",
        "          dgzs = []\n",
        "          if wand_b:\n",
        "            wandb.log({\"G-Loss\": L_g, \n",
        "                      \"D-Loss\": L_d,\n",
        "                      \"dx\": dx_mean,\n",
        "                      \"dgz\": dgz_mean,\n",
        "                      \"iter\": iter\n",
        "                      })\n",
        "\n",
        "      with t.no_grad():\n",
        "        ims = gen(fixed_z).cpu()\n",
        "        \n",
        "      fid = calc_fid(metric, gen, latent_size = config.latent_size)\n",
        "      print(f\"FID: {fid}\")\n",
        "      if wand_b:\n",
        "        norm_images = transforms.Normalize((-1, -1, -1), (2, 2, 2))(ims)\n",
        "        log_dict = {f\"FID\": fid,\n",
        "                  #  f\"{arch}/G-Loss\": t.tensor(g_losses).mean(), \n",
        "                  #  f\"{arch}/D-Loss\": t.tensor(d_losses).mean(),\n",
        "                  # f\"Images\": [wandb.Image(im.numpy()*255) for im in ims],\n",
        "                  \"Images\": [wandb.Image(transforms.ToPILImage()(im)) for im in norm_images],\n",
        "                  \"epoch\": epoch\n",
        "                  }\n",
        "        if epoch == num_epochs:\n",
        "          log_dict.update({\n",
        "              \"FID_Final\": fid\n",
        "          })\n",
        "        wandb.log(log_dict)\n",
        "\n",
        "def train_config(config = None):\n",
        "  with wandb.init(config=config):\n",
        "    config = wandb.config\n",
        "    train(config)\n",
        "\n",
        "    "
      ]
    },
    {
      "cell_type": "code",
      "execution_count": null,
      "metadata": {
        "colab": {
          "base_uri": "https://localhost:8080/"
        },
        "id": "x2bYjowa4C7x",
        "outputId": "92ca1641-1db7-461e-861d-da61cd6f7f93"
      },
      "outputs": [
        {
          "output_type": "stream",
          "name": "stdout",
          "text": [
            "Thu May  5 15:24:56 2022       \n",
            "+-----------------------------------------------------------------------------+\n",
            "| NVIDIA-SMI 460.32.03    Driver Version: 460.32.03    CUDA Version: 11.2     |\n",
            "|-------------------------------+----------------------+----------------------+\n",
            "| GPU  Name        Persistence-M| Bus-Id        Disp.A | Volatile Uncorr. ECC |\n",
            "| Fan  Temp  Perf  Pwr:Usage/Cap|         Memory-Usage | GPU-Util  Compute M. |\n",
            "|                               |                      |               MIG M. |\n",
            "|===============================+======================+======================|\n",
            "|   0  Tesla V100-SXM2...  Off  | 00000000:00:04.0 Off |                    0 |\n",
            "| N/A   38C    P0    40W / 300W |   4893MiB / 16160MiB |      0%      Default |\n",
            "|                               |                      |                  N/A |\n",
            "+-------------------------------+----------------------+----------------------+\n",
            "                                                                               \n",
            "+-----------------------------------------------------------------------------+\n",
            "| Processes:                                                                  |\n",
            "|  GPU   GI   CI        PID   Type   Process name                  GPU Memory |\n",
            "|        ID   ID                                                   Usage      |\n",
            "|=============================================================================|\n",
            "+-----------------------------------------------------------------------------+\n"
          ]
        }
      ],
      "source": [
        "!nvidia-smi"
      ]
    },
    {
      "cell_type": "code",
      "execution_count": null,
      "metadata": {
        "id": "4jz5fuzNSv78"
      },
      "outputs": [],
      "source": [
        "# class dotdict(dict):\n",
        "#     \"\"\"dot.notation access to dictionary attributes\"\"\"\n",
        "#     __getattr__ = dict.get\n",
        "#     __setattr__ = dict.__setitem__\n",
        "#     __delattr__ = dict.__delitem__\n",
        "# train(config = dotdict({\"lr\": 1e-4, \"gen_emb_size\": 256, \"disc_emb_size\": 128, \"latent_size\": 100, \"gen\": \"transformer\", \"disc\": \"transformer\", \"epochs\": 50}), wand_b = False)"
      ]
    },
    {
      "cell_type": "code",
      "execution_count": null,
      "metadata": {
        "colab": {
          "base_uri": "https://localhost:8080/",
          "height": 1000
        },
        "id": "PPRW74B2I5vD",
        "outputId": "228ff3a8-7c91-45c0-b46c-ad5ab4e86097"
      },
      "outputs": [
        {
          "output_type": "stream",
          "name": "stderr",
          "text": [
            "\u001b[34m\u001b[1mwandb\u001b[0m: Agent Starting Run: nrb23vgo with config:\n",
            "\u001b[34m\u001b[1mwandb\u001b[0m: \tdisc: transformer\n",
            "\u001b[34m\u001b[1mwandb\u001b[0m: \tdisc_emb_size: 192\n",
            "\u001b[34m\u001b[1mwandb\u001b[0m: \tepochs: 50\n",
            "\u001b[34m\u001b[1mwandb\u001b[0m: \tgen: conv\n",
            "\u001b[34m\u001b[1mwandb\u001b[0m: \tgen_emb_size: 256\n",
            "\u001b[34m\u001b[1mwandb\u001b[0m: \tlatent_size: 100\n",
            "\u001b[34m\u001b[1mwandb\u001b[0m: \tlr: 1e-05\n",
            "\u001b[34m\u001b[1mwandb\u001b[0m: W&B API key is configured. Use \u001b[1m`wandb login --relogin`\u001b[0m to force relogin\n"
          ]
        },
        {
          "output_type": "display_data",
          "data": {
            "text/plain": [
              "<IPython.core.display.HTML object>"
            ],
            "text/html": [
              "Tracking run with wandb version 0.12.16"
            ]
          },
          "metadata": {}
        },
        {
          "output_type": "display_data",
          "data": {
            "text/plain": [
              "<IPython.core.display.HTML object>"
            ],
            "text/html": [
              "Run data is saved locally in <code>/content/wandb/run-20220505_152503-nrb23vgo</code>"
            ]
          },
          "metadata": {}
        },
        {
          "output_type": "display_data",
          "data": {
            "text/plain": [
              "<IPython.core.display.HTML object>"
            ],
            "text/html": [
              "Syncing run <strong><a href=\"https://wandb.ai/wsunadawong/CIFAR-transformer/runs/nrb23vgo\" target=\"_blank\">gentle-sweep-3</a></strong> to <a href=\"https://wandb.ai/wsunadawong/CIFAR-transformer\" target=\"_blank\">Weights & Biases</a> (<a href=\"https://wandb.me/run\" target=\"_blank\">docs</a>)<br/>Sweep page:  <a href=\"https://wandb.ai/wsunadawong/CIFAR-transformer/sweeps/v66yl21b\" target=\"_blank\">https://wandb.ai/wsunadawong/CIFAR-transformer/sweeps/v66yl21b</a>"
            ]
          },
          "metadata": {}
        },
        {
          "output_type": "stream",
          "name": "stderr",
          "text": [
            "100%|██████████| 391/391 [01:34<00:00,  4.13it/s]\n",
            " 26%|██▌       | 100/391 [00:42<02:05,  2.33it/s]\n"
          ]
        },
        {
          "output_type": "stream",
          "name": "stdout",
          "text": [
            "FID: 403.2853861436653\n"
          ]
        },
        {
          "output_type": "stream",
          "name": "stderr",
          "text": [
            "100%|██████████| 391/391 [01:34<00:00,  4.14it/s]\n",
            " 26%|██▌       | 100/391 [00:43<02:06,  2.30it/s]\n"
          ]
        },
        {
          "output_type": "stream",
          "name": "stdout",
          "text": [
            "FID: 441.2788465229978\n"
          ]
        },
        {
          "output_type": "stream",
          "name": "stderr",
          "text": [
            "100%|██████████| 391/391 [01:34<00:00,  4.12it/s]\n",
            " 26%|██▌       | 100/391 [00:43<02:05,  2.32it/s]\n"
          ]
        },
        {
          "output_type": "stream",
          "name": "stdout",
          "text": [
            "FID: 420.548186692905\n"
          ]
        },
        {
          "output_type": "stream",
          "name": "stderr",
          "text": [
            "100%|██████████| 391/391 [01:34<00:00,  4.13it/s]\n",
            " 26%|██▌       | 100/391 [00:42<02:05,  2.33it/s]\n"
          ]
        },
        {
          "output_type": "stream",
          "name": "stdout",
          "text": [
            "FID: 431.74692929225716\n"
          ]
        },
        {
          "output_type": "stream",
          "name": "stderr",
          "text": [
            "100%|██████████| 391/391 [01:34<00:00,  4.12it/s]\n",
            " 26%|██▌       | 100/391 [00:43<02:05,  2.33it/s]\n"
          ]
        },
        {
          "output_type": "stream",
          "name": "stdout",
          "text": [
            "FID: 420.1152291451159\n"
          ]
        },
        {
          "output_type": "stream",
          "name": "stderr",
          "text": [
            "100%|██████████| 391/391 [01:34<00:00,  4.12it/s]\n",
            " 26%|██▌       | 100/391 [00:43<02:05,  2.32it/s]\n"
          ]
        },
        {
          "output_type": "stream",
          "name": "stdout",
          "text": [
            "FID: 349.0678537706375\n"
          ]
        },
        {
          "output_type": "stream",
          "name": "stderr",
          "text": [
            "100%|██████████| 391/391 [01:35<00:00,  4.11it/s]\n",
            " 26%|██▌       | 100/391 [00:43<02:05,  2.32it/s]\n"
          ]
        },
        {
          "output_type": "stream",
          "name": "stdout",
          "text": [
            "FID: 361.4931913180464\n"
          ]
        },
        {
          "output_type": "stream",
          "name": "stderr",
          "text": [
            "100%|██████████| 391/391 [01:34<00:00,  4.12it/s]\n",
            " 26%|██▌       | 100/391 [00:42<02:04,  2.33it/s]\n"
          ]
        },
        {
          "output_type": "stream",
          "name": "stdout",
          "text": [
            "FID: 321.8982645310373\n"
          ]
        },
        {
          "output_type": "stream",
          "name": "stderr",
          "text": [
            "100%|██████████| 391/391 [01:34<00:00,  4.12it/s]\n",
            " 26%|██▌       | 100/391 [00:43<02:05,  2.32it/s]\n"
          ]
        },
        {
          "output_type": "stream",
          "name": "stdout",
          "text": [
            "FID: 285.7509777277711\n"
          ]
        },
        {
          "output_type": "stream",
          "name": "stderr",
          "text": [
            "100%|██████████| 391/391 [01:34<00:00,  4.12it/s]\n",
            " 26%|██▌       | 100/391 [00:42<02:04,  2.33it/s]\n"
          ]
        },
        {
          "output_type": "stream",
          "name": "stdout",
          "text": [
            "FID: 261.3822115381628\n"
          ]
        },
        {
          "output_type": "stream",
          "name": "stderr",
          "text": [
            "100%|██████████| 391/391 [01:34<00:00,  4.12it/s]\n",
            " 26%|██▌       | 100/391 [00:42<02:05,  2.33it/s]\n"
          ]
        },
        {
          "output_type": "stream",
          "name": "stdout",
          "text": [
            "FID: 246.58681945438332\n"
          ]
        },
        {
          "output_type": "stream",
          "name": "stderr",
          "text": [
            "100%|██████████| 391/391 [01:34<00:00,  4.12it/s]\n",
            " 26%|██▌       | 100/391 [00:42<02:05,  2.33it/s]\n"
          ]
        },
        {
          "output_type": "stream",
          "name": "stdout",
          "text": [
            "FID: 245.5463076834334\n"
          ]
        },
        {
          "output_type": "stream",
          "name": "stderr",
          "text": [
            "100%|██████████| 391/391 [01:34<00:00,  4.12it/s]\n",
            " 26%|██▌       | 100/391 [00:42<02:04,  2.33it/s]\n"
          ]
        },
        {
          "output_type": "stream",
          "name": "stdout",
          "text": [
            "FID: 244.9238335557945\n"
          ]
        },
        {
          "output_type": "stream",
          "name": "stderr",
          "text": [
            "100%|██████████| 391/391 [01:34<00:00,  4.12it/s]\n",
            " 26%|██▌       | 100/391 [00:43<02:05,  2.32it/s]\n"
          ]
        },
        {
          "output_type": "stream",
          "name": "stdout",
          "text": [
            "FID: 256.8611031801115\n"
          ]
        },
        {
          "output_type": "stream",
          "name": "stderr",
          "text": [
            "100%|██████████| 391/391 [01:34<00:00,  4.12it/s]\n",
            " 26%|██▌       | 100/391 [00:42<02:04,  2.33it/s]\n"
          ]
        },
        {
          "output_type": "stream",
          "name": "stdout",
          "text": [
            "FID: 280.97740670296173\n"
          ]
        },
        {
          "output_type": "stream",
          "name": "stderr",
          "text": [
            "100%|██████████| 391/391 [01:34<00:00,  4.13it/s]\n",
            " 26%|██▌       | 100/391 [00:42<02:04,  2.33it/s]\n"
          ]
        },
        {
          "output_type": "stream",
          "name": "stdout",
          "text": [
            "FID: 244.4596366816936\n"
          ]
        },
        {
          "output_type": "stream",
          "name": "stderr",
          "text": [
            "100%|██████████| 391/391 [01:34<00:00,  4.13it/s]\n",
            " 26%|██▌       | 100/391 [00:42<02:04,  2.33it/s]\n"
          ]
        },
        {
          "output_type": "stream",
          "name": "stdout",
          "text": [
            "FID: 233.25239685280462\n"
          ]
        },
        {
          "output_type": "stream",
          "name": "stderr",
          "text": [
            "100%|██████████| 391/391 [01:34<00:00,  4.13it/s]\n",
            " 26%|██▌       | 100/391 [00:42<02:05,  2.33it/s]\n"
          ]
        },
        {
          "output_type": "stream",
          "name": "stdout",
          "text": [
            "FID: 236.82734743622322\n"
          ]
        },
        {
          "output_type": "stream",
          "name": "stderr",
          "text": [
            "100%|██████████| 391/391 [01:34<00:00,  4.13it/s]\n",
            " 26%|██▌       | 100/391 [00:42<02:04,  2.34it/s]\n"
          ]
        },
        {
          "output_type": "stream",
          "name": "stdout",
          "text": [
            "FID: 206.4639617376729\n"
          ]
        },
        {
          "output_type": "stream",
          "name": "stderr",
          "text": [
            "100%|██████████| 391/391 [01:34<00:00,  4.13it/s]\n",
            " 26%|██▌       | 100/391 [00:42<02:04,  2.34it/s]\n"
          ]
        },
        {
          "output_type": "stream",
          "name": "stdout",
          "text": [
            "FID: 200.44687435057307\n"
          ]
        },
        {
          "output_type": "stream",
          "name": "stderr",
          "text": [
            "100%|██████████| 391/391 [01:34<00:00,  4.14it/s]\n",
            " 26%|██▌       | 100/391 [00:42<02:03,  2.35it/s]\n"
          ]
        },
        {
          "output_type": "stream",
          "name": "stdout",
          "text": [
            "FID: 199.20931837372467\n"
          ]
        },
        {
          "output_type": "stream",
          "name": "stderr",
          "text": [
            "100%|██████████| 391/391 [01:34<00:00,  4.13it/s]\n",
            " 26%|██▌       | 100/391 [00:42<02:03,  2.35it/s]\n"
          ]
        },
        {
          "output_type": "stream",
          "name": "stdout",
          "text": [
            "FID: 195.00399850420126\n"
          ]
        },
        {
          "output_type": "stream",
          "name": "stderr",
          "text": [
            "100%|██████████| 391/391 [01:34<00:00,  4.14it/s]\n",
            " 26%|██▌       | 100/391 [00:42<02:03,  2.35it/s]\n"
          ]
        },
        {
          "output_type": "stream",
          "name": "stdout",
          "text": [
            "FID: 187.20012956831548\n"
          ]
        },
        {
          "output_type": "stream",
          "name": "stderr",
          "text": [
            "100%|██████████| 391/391 [01:34<00:00,  4.13it/s]\n",
            " 26%|██▌       | 100/391 [00:42<02:03,  2.35it/s]\n"
          ]
        },
        {
          "output_type": "stream",
          "name": "stdout",
          "text": [
            "FID: 192.0745829089151\n"
          ]
        },
        {
          "output_type": "stream",
          "name": "stderr",
          "text": [
            "100%|██████████| 391/391 [01:34<00:00,  4.14it/s]\n",
            " 26%|██▌       | 100/391 [00:42<02:03,  2.35it/s]\n"
          ]
        },
        {
          "output_type": "stream",
          "name": "stdout",
          "text": [
            "FID: 187.1557129597988\n"
          ]
        },
        {
          "output_type": "stream",
          "name": "stderr",
          "text": [
            "100%|██████████| 391/391 [01:34<00:00,  4.14it/s]\n",
            "  6%|▋         | 25/391 [00:10<02:33,  2.38it/s]"
          ]
        }
      ],
      "source": [
        "wandb.agent(\"v66yl21b\", train_config, project=\"CIFAR-transformer\")\n",
        "\n"
      ]
    },
    {
      "cell_type": "code",
      "execution_count": null,
      "metadata": {
        "id": "NL0dY_gbXHJo"
      },
      "outputs": [],
      "source": [
        ""
      ]
    }
  ],
  "metadata": {
    "accelerator": "GPU",
    "colab": {
      "background_execution": "on",
      "collapsed_sections": [],
      "machine_shape": "hm",
      "name": "CIFAR_GAN2.ipynb",
      "provenance": [],
      "include_colab_link": true
    },
    "kernelspec": {
      "display_name": "Python 3",
      "name": "python3"
    },
    "language_info": {
      "name": "python"
    }
  },
  "nbformat": 4,
  "nbformat_minor": 0
}