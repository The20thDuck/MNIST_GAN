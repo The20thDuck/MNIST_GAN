{
  "nbformat": 4,
  "nbformat_minor": 0,
  "metadata": {
    "colab": {
      "name": "FashionGAN2.ipynb",
      "provenance": [],
      "collapsed_sections": [],
      "background_execution": "on",
      "include_colab_link": true
    },
    "kernelspec": {
      "name": "python3",
      "display_name": "Python 3"
    },
    "language_info": {
      "name": "python"
    },
    "accelerator": "GPU",
    "widgets": {
      "application/vnd.jupyter.widget-state+json": {
        "9f956a842332443399dd0b07f6cee38b": {
          "model_module": "@jupyter-widgets/controls",
          "model_name": "HBoxModel",
          "model_module_version": "1.5.0",
          "state": {
            "_dom_classes": [],
            "_model_module": "@jupyter-widgets/controls",
            "_model_module_version": "1.5.0",
            "_model_name": "HBoxModel",
            "_view_count": null,
            "_view_module": "@jupyter-widgets/controls",
            "_view_module_version": "1.5.0",
            "_view_name": "HBoxView",
            "box_style": "",
            "children": [
              "IPY_MODEL_f5f097c32deb46a4ad3bacfdb69b6d80",
              "IPY_MODEL_6176f94c73334ce892ebfbcb1fecf855",
              "IPY_MODEL_42172722534f433bb35695456cc43931"
            ],
            "layout": "IPY_MODEL_e9f827b110bd49519d889d88527757f9"
          }
        },
        "f5f097c32deb46a4ad3bacfdb69b6d80": {
          "model_module": "@jupyter-widgets/controls",
          "model_name": "HTMLModel",
          "model_module_version": "1.5.0",
          "state": {
            "_dom_classes": [],
            "_model_module": "@jupyter-widgets/controls",
            "_model_module_version": "1.5.0",
            "_model_name": "HTMLModel",
            "_view_count": null,
            "_view_module": "@jupyter-widgets/controls",
            "_view_module_version": "1.5.0",
            "_view_name": "HTMLView",
            "description": "",
            "description_tooltip": null,
            "layout": "IPY_MODEL_05c2c1ebbbaf4cd186e9849fdd82bed5",
            "placeholder": "​",
            "style": "IPY_MODEL_27298f88afc74b4595b6efac675f4304",
            "value": ""
          }
        },
        "6176f94c73334ce892ebfbcb1fecf855": {
          "model_module": "@jupyter-widgets/controls",
          "model_name": "FloatProgressModel",
          "model_module_version": "1.5.0",
          "state": {
            "_dom_classes": [],
            "_model_module": "@jupyter-widgets/controls",
            "_model_module_version": "1.5.0",
            "_model_name": "FloatProgressModel",
            "_view_count": null,
            "_view_module": "@jupyter-widgets/controls",
            "_view_module_version": "1.5.0",
            "_view_name": "ProgressView",
            "bar_style": "success",
            "description": "",
            "description_tooltip": null,
            "layout": "IPY_MODEL_03b015e509eb4113962c4624d862932d",
            "max": 26421880,
            "min": 0,
            "orientation": "horizontal",
            "style": "IPY_MODEL_edf50d91bb8e4626877bbf3391c23e70",
            "value": 26421880
          }
        },
        "42172722534f433bb35695456cc43931": {
          "model_module": "@jupyter-widgets/controls",
          "model_name": "HTMLModel",
          "model_module_version": "1.5.0",
          "state": {
            "_dom_classes": [],
            "_model_module": "@jupyter-widgets/controls",
            "_model_module_version": "1.5.0",
            "_model_name": "HTMLModel",
            "_view_count": null,
            "_view_module": "@jupyter-widgets/controls",
            "_view_module_version": "1.5.0",
            "_view_name": "HTMLView",
            "description": "",
            "description_tooltip": null,
            "layout": "IPY_MODEL_f0953d4cd92d471391d4ef74ae026725",
            "placeholder": "​",
            "style": "IPY_MODEL_d558f93ee92548ddaf87a45a1f2f8c16",
            "value": " 26422272/? [00:04&lt;00:00, 9676428.53it/s]"
          }
        },
        "e9f827b110bd49519d889d88527757f9": {
          "model_module": "@jupyter-widgets/base",
          "model_name": "LayoutModel",
          "model_module_version": "1.2.0",
          "state": {
            "_model_module": "@jupyter-widgets/base",
            "_model_module_version": "1.2.0",
            "_model_name": "LayoutModel",
            "_view_count": null,
            "_view_module": "@jupyter-widgets/base",
            "_view_module_version": "1.2.0",
            "_view_name": "LayoutView",
            "align_content": null,
            "align_items": null,
            "align_self": null,
            "border": null,
            "bottom": null,
            "display": null,
            "flex": null,
            "flex_flow": null,
            "grid_area": null,
            "grid_auto_columns": null,
            "grid_auto_flow": null,
            "grid_auto_rows": null,
            "grid_column": null,
            "grid_gap": null,
            "grid_row": null,
            "grid_template_areas": null,
            "grid_template_columns": null,
            "grid_template_rows": null,
            "height": null,
            "justify_content": null,
            "justify_items": null,
            "left": null,
            "margin": null,
            "max_height": null,
            "max_width": null,
            "min_height": null,
            "min_width": null,
            "object_fit": null,
            "object_position": null,
            "order": null,
            "overflow": null,
            "overflow_x": null,
            "overflow_y": null,
            "padding": null,
            "right": null,
            "top": null,
            "visibility": null,
            "width": null
          }
        },
        "05c2c1ebbbaf4cd186e9849fdd82bed5": {
          "model_module": "@jupyter-widgets/base",
          "model_name": "LayoutModel",
          "model_module_version": "1.2.0",
          "state": {
            "_model_module": "@jupyter-widgets/base",
            "_model_module_version": "1.2.0",
            "_model_name": "LayoutModel",
            "_view_count": null,
            "_view_module": "@jupyter-widgets/base",
            "_view_module_version": "1.2.0",
            "_view_name": "LayoutView",
            "align_content": null,
            "align_items": null,
            "align_self": null,
            "border": null,
            "bottom": null,
            "display": null,
            "flex": null,
            "flex_flow": null,
            "grid_area": null,
            "grid_auto_columns": null,
            "grid_auto_flow": null,
            "grid_auto_rows": null,
            "grid_column": null,
            "grid_gap": null,
            "grid_row": null,
            "grid_template_areas": null,
            "grid_template_columns": null,
            "grid_template_rows": null,
            "height": null,
            "justify_content": null,
            "justify_items": null,
            "left": null,
            "margin": null,
            "max_height": null,
            "max_width": null,
            "min_height": null,
            "min_width": null,
            "object_fit": null,
            "object_position": null,
            "order": null,
            "overflow": null,
            "overflow_x": null,
            "overflow_y": null,
            "padding": null,
            "right": null,
            "top": null,
            "visibility": null,
            "width": null
          }
        },
        "27298f88afc74b4595b6efac675f4304": {
          "model_module": "@jupyter-widgets/controls",
          "model_name": "DescriptionStyleModel",
          "model_module_version": "1.5.0",
          "state": {
            "_model_module": "@jupyter-widgets/controls",
            "_model_module_version": "1.5.0",
            "_model_name": "DescriptionStyleModel",
            "_view_count": null,
            "_view_module": "@jupyter-widgets/base",
            "_view_module_version": "1.2.0",
            "_view_name": "StyleView",
            "description_width": ""
          }
        },
        "03b015e509eb4113962c4624d862932d": {
          "model_module": "@jupyter-widgets/base",
          "model_name": "LayoutModel",
          "model_module_version": "1.2.0",
          "state": {
            "_model_module": "@jupyter-widgets/base",
            "_model_module_version": "1.2.0",
            "_model_name": "LayoutModel",
            "_view_count": null,
            "_view_module": "@jupyter-widgets/base",
            "_view_module_version": "1.2.0",
            "_view_name": "LayoutView",
            "align_content": null,
            "align_items": null,
            "align_self": null,
            "border": null,
            "bottom": null,
            "display": null,
            "flex": null,
            "flex_flow": null,
            "grid_area": null,
            "grid_auto_columns": null,
            "grid_auto_flow": null,
            "grid_auto_rows": null,
            "grid_column": null,
            "grid_gap": null,
            "grid_row": null,
            "grid_template_areas": null,
            "grid_template_columns": null,
            "grid_template_rows": null,
            "height": null,
            "justify_content": null,
            "justify_items": null,
            "left": null,
            "margin": null,
            "max_height": null,
            "max_width": null,
            "min_height": null,
            "min_width": null,
            "object_fit": null,
            "object_position": null,
            "order": null,
            "overflow": null,
            "overflow_x": null,
            "overflow_y": null,
            "padding": null,
            "right": null,
            "top": null,
            "visibility": null,
            "width": null
          }
        },
        "edf50d91bb8e4626877bbf3391c23e70": {
          "model_module": "@jupyter-widgets/controls",
          "model_name": "ProgressStyleModel",
          "model_module_version": "1.5.0",
          "state": {
            "_model_module": "@jupyter-widgets/controls",
            "_model_module_version": "1.5.0",
            "_model_name": "ProgressStyleModel",
            "_view_count": null,
            "_view_module": "@jupyter-widgets/base",
            "_view_module_version": "1.2.0",
            "_view_name": "StyleView",
            "bar_color": null,
            "description_width": ""
          }
        },
        "f0953d4cd92d471391d4ef74ae026725": {
          "model_module": "@jupyter-widgets/base",
          "model_name": "LayoutModel",
          "model_module_version": "1.2.0",
          "state": {
            "_model_module": "@jupyter-widgets/base",
            "_model_module_version": "1.2.0",
            "_model_name": "LayoutModel",
            "_view_count": null,
            "_view_module": "@jupyter-widgets/base",
            "_view_module_version": "1.2.0",
            "_view_name": "LayoutView",
            "align_content": null,
            "align_items": null,
            "align_self": null,
            "border": null,
            "bottom": null,
            "display": null,
            "flex": null,
            "flex_flow": null,
            "grid_area": null,
            "grid_auto_columns": null,
            "grid_auto_flow": null,
            "grid_auto_rows": null,
            "grid_column": null,
            "grid_gap": null,
            "grid_row": null,
            "grid_template_areas": null,
            "grid_template_columns": null,
            "grid_template_rows": null,
            "height": null,
            "justify_content": null,
            "justify_items": null,
            "left": null,
            "margin": null,
            "max_height": null,
            "max_width": null,
            "min_height": null,
            "min_width": null,
            "object_fit": null,
            "object_position": null,
            "order": null,
            "overflow": null,
            "overflow_x": null,
            "overflow_y": null,
            "padding": null,
            "right": null,
            "top": null,
            "visibility": null,
            "width": null
          }
        },
        "d558f93ee92548ddaf87a45a1f2f8c16": {
          "model_module": "@jupyter-widgets/controls",
          "model_name": "DescriptionStyleModel",
          "model_module_version": "1.5.0",
          "state": {
            "_model_module": "@jupyter-widgets/controls",
            "_model_module_version": "1.5.0",
            "_model_name": "DescriptionStyleModel",
            "_view_count": null,
            "_view_module": "@jupyter-widgets/base",
            "_view_module_version": "1.2.0",
            "_view_name": "StyleView",
            "description_width": ""
          }
        },
        "43d651640fff44f08f2707b6116ecfc1": {
          "model_module": "@jupyter-widgets/controls",
          "model_name": "HBoxModel",
          "model_module_version": "1.5.0",
          "state": {
            "_dom_classes": [],
            "_model_module": "@jupyter-widgets/controls",
            "_model_module_version": "1.5.0",
            "_model_name": "HBoxModel",
            "_view_count": null,
            "_view_module": "@jupyter-widgets/controls",
            "_view_module_version": "1.5.0",
            "_view_name": "HBoxView",
            "box_style": "",
            "children": [
              "IPY_MODEL_18a8047e29c84df186fbac4a35239288",
              "IPY_MODEL_44ec9c876f2747ea817d27cbd1dd59ba",
              "IPY_MODEL_dc44e1e48bae4fa38de7ac1c79ff3793"
            ],
            "layout": "IPY_MODEL_28a76b4d12304aeab784eaba54a7e22f"
          }
        },
        "18a8047e29c84df186fbac4a35239288": {
          "model_module": "@jupyter-widgets/controls",
          "model_name": "HTMLModel",
          "model_module_version": "1.5.0",
          "state": {
            "_dom_classes": [],
            "_model_module": "@jupyter-widgets/controls",
            "_model_module_version": "1.5.0",
            "_model_name": "HTMLModel",
            "_view_count": null,
            "_view_module": "@jupyter-widgets/controls",
            "_view_module_version": "1.5.0",
            "_view_name": "HTMLView",
            "description": "",
            "description_tooltip": null,
            "layout": "IPY_MODEL_9f6f7c07b0b840e4ba70475801d7cab7",
            "placeholder": "​",
            "style": "IPY_MODEL_5a7dc40492a84e938586e014bb2336b1",
            "value": ""
          }
        },
        "44ec9c876f2747ea817d27cbd1dd59ba": {
          "model_module": "@jupyter-widgets/controls",
          "model_name": "FloatProgressModel",
          "model_module_version": "1.5.0",
          "state": {
            "_dom_classes": [],
            "_model_module": "@jupyter-widgets/controls",
            "_model_module_version": "1.5.0",
            "_model_name": "FloatProgressModel",
            "_view_count": null,
            "_view_module": "@jupyter-widgets/controls",
            "_view_module_version": "1.5.0",
            "_view_name": "ProgressView",
            "bar_style": "success",
            "description": "",
            "description_tooltip": null,
            "layout": "IPY_MODEL_3f152cf3059a46c7a890d65797291e07",
            "max": 29515,
            "min": 0,
            "orientation": "horizontal",
            "style": "IPY_MODEL_a8306f0d48054e288a8c34adb145f3db",
            "value": 29515
          }
        },
        "dc44e1e48bae4fa38de7ac1c79ff3793": {
          "model_module": "@jupyter-widgets/controls",
          "model_name": "HTMLModel",
          "model_module_version": "1.5.0",
          "state": {
            "_dom_classes": [],
            "_model_module": "@jupyter-widgets/controls",
            "_model_module_version": "1.5.0",
            "_model_name": "HTMLModel",
            "_view_count": null,
            "_view_module": "@jupyter-widgets/controls",
            "_view_module_version": "1.5.0",
            "_view_name": "HTMLView",
            "description": "",
            "description_tooltip": null,
            "layout": "IPY_MODEL_dfc96e029658460c805d08ffbebf091b",
            "placeholder": "​",
            "style": "IPY_MODEL_cafed34292234dafa8e01f37312c95a5",
            "value": " 29696/? [00:00&lt;00:00, 49144.99it/s]"
          }
        },
        "28a76b4d12304aeab784eaba54a7e22f": {
          "model_module": "@jupyter-widgets/base",
          "model_name": "LayoutModel",
          "model_module_version": "1.2.0",
          "state": {
            "_model_module": "@jupyter-widgets/base",
            "_model_module_version": "1.2.0",
            "_model_name": "LayoutModel",
            "_view_count": null,
            "_view_module": "@jupyter-widgets/base",
            "_view_module_version": "1.2.0",
            "_view_name": "LayoutView",
            "align_content": null,
            "align_items": null,
            "align_self": null,
            "border": null,
            "bottom": null,
            "display": null,
            "flex": null,
            "flex_flow": null,
            "grid_area": null,
            "grid_auto_columns": null,
            "grid_auto_flow": null,
            "grid_auto_rows": null,
            "grid_column": null,
            "grid_gap": null,
            "grid_row": null,
            "grid_template_areas": null,
            "grid_template_columns": null,
            "grid_template_rows": null,
            "height": null,
            "justify_content": null,
            "justify_items": null,
            "left": null,
            "margin": null,
            "max_height": null,
            "max_width": null,
            "min_height": null,
            "min_width": null,
            "object_fit": null,
            "object_position": null,
            "order": null,
            "overflow": null,
            "overflow_x": null,
            "overflow_y": null,
            "padding": null,
            "right": null,
            "top": null,
            "visibility": null,
            "width": null
          }
        },
        "9f6f7c07b0b840e4ba70475801d7cab7": {
          "model_module": "@jupyter-widgets/base",
          "model_name": "LayoutModel",
          "model_module_version": "1.2.0",
          "state": {
            "_model_module": "@jupyter-widgets/base",
            "_model_module_version": "1.2.0",
            "_model_name": "LayoutModel",
            "_view_count": null,
            "_view_module": "@jupyter-widgets/base",
            "_view_module_version": "1.2.0",
            "_view_name": "LayoutView",
            "align_content": null,
            "align_items": null,
            "align_self": null,
            "border": null,
            "bottom": null,
            "display": null,
            "flex": null,
            "flex_flow": null,
            "grid_area": null,
            "grid_auto_columns": null,
            "grid_auto_flow": null,
            "grid_auto_rows": null,
            "grid_column": null,
            "grid_gap": null,
            "grid_row": null,
            "grid_template_areas": null,
            "grid_template_columns": null,
            "grid_template_rows": null,
            "height": null,
            "justify_content": null,
            "justify_items": null,
            "left": null,
            "margin": null,
            "max_height": null,
            "max_width": null,
            "min_height": null,
            "min_width": null,
            "object_fit": null,
            "object_position": null,
            "order": null,
            "overflow": null,
            "overflow_x": null,
            "overflow_y": null,
            "padding": null,
            "right": null,
            "top": null,
            "visibility": null,
            "width": null
          }
        },
        "5a7dc40492a84e938586e014bb2336b1": {
          "model_module": "@jupyter-widgets/controls",
          "model_name": "DescriptionStyleModel",
          "model_module_version": "1.5.0",
          "state": {
            "_model_module": "@jupyter-widgets/controls",
            "_model_module_version": "1.5.0",
            "_model_name": "DescriptionStyleModel",
            "_view_count": null,
            "_view_module": "@jupyter-widgets/base",
            "_view_module_version": "1.2.0",
            "_view_name": "StyleView",
            "description_width": ""
          }
        },
        "3f152cf3059a46c7a890d65797291e07": {
          "model_module": "@jupyter-widgets/base",
          "model_name": "LayoutModel",
          "model_module_version": "1.2.0",
          "state": {
            "_model_module": "@jupyter-widgets/base",
            "_model_module_version": "1.2.0",
            "_model_name": "LayoutModel",
            "_view_count": null,
            "_view_module": "@jupyter-widgets/base",
            "_view_module_version": "1.2.0",
            "_view_name": "LayoutView",
            "align_content": null,
            "align_items": null,
            "align_self": null,
            "border": null,
            "bottom": null,
            "display": null,
            "flex": null,
            "flex_flow": null,
            "grid_area": null,
            "grid_auto_columns": null,
            "grid_auto_flow": null,
            "grid_auto_rows": null,
            "grid_column": null,
            "grid_gap": null,
            "grid_row": null,
            "grid_template_areas": null,
            "grid_template_columns": null,
            "grid_template_rows": null,
            "height": null,
            "justify_content": null,
            "justify_items": null,
            "left": null,
            "margin": null,
            "max_height": null,
            "max_width": null,
            "min_height": null,
            "min_width": null,
            "object_fit": null,
            "object_position": null,
            "order": null,
            "overflow": null,
            "overflow_x": null,
            "overflow_y": null,
            "padding": null,
            "right": null,
            "top": null,
            "visibility": null,
            "width": null
          }
        },
        "a8306f0d48054e288a8c34adb145f3db": {
          "model_module": "@jupyter-widgets/controls",
          "model_name": "ProgressStyleModel",
          "model_module_version": "1.5.0",
          "state": {
            "_model_module": "@jupyter-widgets/controls",
            "_model_module_version": "1.5.0",
            "_model_name": "ProgressStyleModel",
            "_view_count": null,
            "_view_module": "@jupyter-widgets/base",
            "_view_module_version": "1.2.0",
            "_view_name": "StyleView",
            "bar_color": null,
            "description_width": ""
          }
        },
        "dfc96e029658460c805d08ffbebf091b": {
          "model_module": "@jupyter-widgets/base",
          "model_name": "LayoutModel",
          "model_module_version": "1.2.0",
          "state": {
            "_model_module": "@jupyter-widgets/base",
            "_model_module_version": "1.2.0",
            "_model_name": "LayoutModel",
            "_view_count": null,
            "_view_module": "@jupyter-widgets/base",
            "_view_module_version": "1.2.0",
            "_view_name": "LayoutView",
            "align_content": null,
            "align_items": null,
            "align_self": null,
            "border": null,
            "bottom": null,
            "display": null,
            "flex": null,
            "flex_flow": null,
            "grid_area": null,
            "grid_auto_columns": null,
            "grid_auto_flow": null,
            "grid_auto_rows": null,
            "grid_column": null,
            "grid_gap": null,
            "grid_row": null,
            "grid_template_areas": null,
            "grid_template_columns": null,
            "grid_template_rows": null,
            "height": null,
            "justify_content": null,
            "justify_items": null,
            "left": null,
            "margin": null,
            "max_height": null,
            "max_width": null,
            "min_height": null,
            "min_width": null,
            "object_fit": null,
            "object_position": null,
            "order": null,
            "overflow": null,
            "overflow_x": null,
            "overflow_y": null,
            "padding": null,
            "right": null,
            "top": null,
            "visibility": null,
            "width": null
          }
        },
        "cafed34292234dafa8e01f37312c95a5": {
          "model_module": "@jupyter-widgets/controls",
          "model_name": "DescriptionStyleModel",
          "model_module_version": "1.5.0",
          "state": {
            "_model_module": "@jupyter-widgets/controls",
            "_model_module_version": "1.5.0",
            "_model_name": "DescriptionStyleModel",
            "_view_count": null,
            "_view_module": "@jupyter-widgets/base",
            "_view_module_version": "1.2.0",
            "_view_name": "StyleView",
            "description_width": ""
          }
        },
        "183e4636d9d2464fb74979da72c358e4": {
          "model_module": "@jupyter-widgets/controls",
          "model_name": "HBoxModel",
          "model_module_version": "1.5.0",
          "state": {
            "_dom_classes": [],
            "_model_module": "@jupyter-widgets/controls",
            "_model_module_version": "1.5.0",
            "_model_name": "HBoxModel",
            "_view_count": null,
            "_view_module": "@jupyter-widgets/controls",
            "_view_module_version": "1.5.0",
            "_view_name": "HBoxView",
            "box_style": "",
            "children": [
              "IPY_MODEL_681651da4e4a4627abd5298dd0c80ef2",
              "IPY_MODEL_e607158021c0431893ff45029dd49e65",
              "IPY_MODEL_d40846d35b3e4077863ec92da7a8ecfe"
            ],
            "layout": "IPY_MODEL_30d0ff294cef437c8b7d4df3c4bb0cf0"
          }
        },
        "681651da4e4a4627abd5298dd0c80ef2": {
          "model_module": "@jupyter-widgets/controls",
          "model_name": "HTMLModel",
          "model_module_version": "1.5.0",
          "state": {
            "_dom_classes": [],
            "_model_module": "@jupyter-widgets/controls",
            "_model_module_version": "1.5.0",
            "_model_name": "HTMLModel",
            "_view_count": null,
            "_view_module": "@jupyter-widgets/controls",
            "_view_module_version": "1.5.0",
            "_view_name": "HTMLView",
            "description": "",
            "description_tooltip": null,
            "layout": "IPY_MODEL_4a6d016122994e9c8d15c5dbc163cb36",
            "placeholder": "​",
            "style": "IPY_MODEL_6b49ffa5da0c466cbcd599f0f7c7ccf3",
            "value": ""
          }
        },
        "e607158021c0431893ff45029dd49e65": {
          "model_module": "@jupyter-widgets/controls",
          "model_name": "FloatProgressModel",
          "model_module_version": "1.5.0",
          "state": {
            "_dom_classes": [],
            "_model_module": "@jupyter-widgets/controls",
            "_model_module_version": "1.5.0",
            "_model_name": "FloatProgressModel",
            "_view_count": null,
            "_view_module": "@jupyter-widgets/controls",
            "_view_module_version": "1.5.0",
            "_view_name": "ProgressView",
            "bar_style": "success",
            "description": "",
            "description_tooltip": null,
            "layout": "IPY_MODEL_54bffc0d5b92441d96944e5fd2e4e83b",
            "max": 4422102,
            "min": 0,
            "orientation": "horizontal",
            "style": "IPY_MODEL_3f01d4afe0394dd59fa5decbdd393ed5",
            "value": 4422102
          }
        },
        "d40846d35b3e4077863ec92da7a8ecfe": {
          "model_module": "@jupyter-widgets/controls",
          "model_name": "HTMLModel",
          "model_module_version": "1.5.0",
          "state": {
            "_dom_classes": [],
            "_model_module": "@jupyter-widgets/controls",
            "_model_module_version": "1.5.0",
            "_model_name": "HTMLModel",
            "_view_count": null,
            "_view_module": "@jupyter-widgets/controls",
            "_view_module_version": "1.5.0",
            "_view_name": "HTMLView",
            "description": "",
            "description_tooltip": null,
            "layout": "IPY_MODEL_85b67f295c6640f491584663fd95f625",
            "placeholder": "​",
            "style": "IPY_MODEL_7004215b3684403aa7b53266d5471ca3",
            "value": " 4422656/? [00:02&lt;00:00, 3225656.05it/s]"
          }
        },
        "30d0ff294cef437c8b7d4df3c4bb0cf0": {
          "model_module": "@jupyter-widgets/base",
          "model_name": "LayoutModel",
          "model_module_version": "1.2.0",
          "state": {
            "_model_module": "@jupyter-widgets/base",
            "_model_module_version": "1.2.0",
            "_model_name": "LayoutModel",
            "_view_count": null,
            "_view_module": "@jupyter-widgets/base",
            "_view_module_version": "1.2.0",
            "_view_name": "LayoutView",
            "align_content": null,
            "align_items": null,
            "align_self": null,
            "border": null,
            "bottom": null,
            "display": null,
            "flex": null,
            "flex_flow": null,
            "grid_area": null,
            "grid_auto_columns": null,
            "grid_auto_flow": null,
            "grid_auto_rows": null,
            "grid_column": null,
            "grid_gap": null,
            "grid_row": null,
            "grid_template_areas": null,
            "grid_template_columns": null,
            "grid_template_rows": null,
            "height": null,
            "justify_content": null,
            "justify_items": null,
            "left": null,
            "margin": null,
            "max_height": null,
            "max_width": null,
            "min_height": null,
            "min_width": null,
            "object_fit": null,
            "object_position": null,
            "order": null,
            "overflow": null,
            "overflow_x": null,
            "overflow_y": null,
            "padding": null,
            "right": null,
            "top": null,
            "visibility": null,
            "width": null
          }
        },
        "4a6d016122994e9c8d15c5dbc163cb36": {
          "model_module": "@jupyter-widgets/base",
          "model_name": "LayoutModel",
          "model_module_version": "1.2.0",
          "state": {
            "_model_module": "@jupyter-widgets/base",
            "_model_module_version": "1.2.0",
            "_model_name": "LayoutModel",
            "_view_count": null,
            "_view_module": "@jupyter-widgets/base",
            "_view_module_version": "1.2.0",
            "_view_name": "LayoutView",
            "align_content": null,
            "align_items": null,
            "align_self": null,
            "border": null,
            "bottom": null,
            "display": null,
            "flex": null,
            "flex_flow": null,
            "grid_area": null,
            "grid_auto_columns": null,
            "grid_auto_flow": null,
            "grid_auto_rows": null,
            "grid_column": null,
            "grid_gap": null,
            "grid_row": null,
            "grid_template_areas": null,
            "grid_template_columns": null,
            "grid_template_rows": null,
            "height": null,
            "justify_content": null,
            "justify_items": null,
            "left": null,
            "margin": null,
            "max_height": null,
            "max_width": null,
            "min_height": null,
            "min_width": null,
            "object_fit": null,
            "object_position": null,
            "order": null,
            "overflow": null,
            "overflow_x": null,
            "overflow_y": null,
            "padding": null,
            "right": null,
            "top": null,
            "visibility": null,
            "width": null
          }
        },
        "6b49ffa5da0c466cbcd599f0f7c7ccf3": {
          "model_module": "@jupyter-widgets/controls",
          "model_name": "DescriptionStyleModel",
          "model_module_version": "1.5.0",
          "state": {
            "_model_module": "@jupyter-widgets/controls",
            "_model_module_version": "1.5.0",
            "_model_name": "DescriptionStyleModel",
            "_view_count": null,
            "_view_module": "@jupyter-widgets/base",
            "_view_module_version": "1.2.0",
            "_view_name": "StyleView",
            "description_width": ""
          }
        },
        "54bffc0d5b92441d96944e5fd2e4e83b": {
          "model_module": "@jupyter-widgets/base",
          "model_name": "LayoutModel",
          "model_module_version": "1.2.0",
          "state": {
            "_model_module": "@jupyter-widgets/base",
            "_model_module_version": "1.2.0",
            "_model_name": "LayoutModel",
            "_view_count": null,
            "_view_module": "@jupyter-widgets/base",
            "_view_module_version": "1.2.0",
            "_view_name": "LayoutView",
            "align_content": null,
            "align_items": null,
            "align_self": null,
            "border": null,
            "bottom": null,
            "display": null,
            "flex": null,
            "flex_flow": null,
            "grid_area": null,
            "grid_auto_columns": null,
            "grid_auto_flow": null,
            "grid_auto_rows": null,
            "grid_column": null,
            "grid_gap": null,
            "grid_row": null,
            "grid_template_areas": null,
            "grid_template_columns": null,
            "grid_template_rows": null,
            "height": null,
            "justify_content": null,
            "justify_items": null,
            "left": null,
            "margin": null,
            "max_height": null,
            "max_width": null,
            "min_height": null,
            "min_width": null,
            "object_fit": null,
            "object_position": null,
            "order": null,
            "overflow": null,
            "overflow_x": null,
            "overflow_y": null,
            "padding": null,
            "right": null,
            "top": null,
            "visibility": null,
            "width": null
          }
        },
        "3f01d4afe0394dd59fa5decbdd393ed5": {
          "model_module": "@jupyter-widgets/controls",
          "model_name": "ProgressStyleModel",
          "model_module_version": "1.5.0",
          "state": {
            "_model_module": "@jupyter-widgets/controls",
            "_model_module_version": "1.5.0",
            "_model_name": "ProgressStyleModel",
            "_view_count": null,
            "_view_module": "@jupyter-widgets/base",
            "_view_module_version": "1.2.0",
            "_view_name": "StyleView",
            "bar_color": null,
            "description_width": ""
          }
        },
        "85b67f295c6640f491584663fd95f625": {
          "model_module": "@jupyter-widgets/base",
          "model_name": "LayoutModel",
          "model_module_version": "1.2.0",
          "state": {
            "_model_module": "@jupyter-widgets/base",
            "_model_module_version": "1.2.0",
            "_model_name": "LayoutModel",
            "_view_count": null,
            "_view_module": "@jupyter-widgets/base",
            "_view_module_version": "1.2.0",
            "_view_name": "LayoutView",
            "align_content": null,
            "align_items": null,
            "align_self": null,
            "border": null,
            "bottom": null,
            "display": null,
            "flex": null,
            "flex_flow": null,
            "grid_area": null,
            "grid_auto_columns": null,
            "grid_auto_flow": null,
            "grid_auto_rows": null,
            "grid_column": null,
            "grid_gap": null,
            "grid_row": null,
            "grid_template_areas": null,
            "grid_template_columns": null,
            "grid_template_rows": null,
            "height": null,
            "justify_content": null,
            "justify_items": null,
            "left": null,
            "margin": null,
            "max_height": null,
            "max_width": null,
            "min_height": null,
            "min_width": null,
            "object_fit": null,
            "object_position": null,
            "order": null,
            "overflow": null,
            "overflow_x": null,
            "overflow_y": null,
            "padding": null,
            "right": null,
            "top": null,
            "visibility": null,
            "width": null
          }
        },
        "7004215b3684403aa7b53266d5471ca3": {
          "model_module": "@jupyter-widgets/controls",
          "model_name": "DescriptionStyleModel",
          "model_module_version": "1.5.0",
          "state": {
            "_model_module": "@jupyter-widgets/controls",
            "_model_module_version": "1.5.0",
            "_model_name": "DescriptionStyleModel",
            "_view_count": null,
            "_view_module": "@jupyter-widgets/base",
            "_view_module_version": "1.2.0",
            "_view_name": "StyleView",
            "description_width": ""
          }
        },
        "438efdd8e3664ae1b87ed099208a776c": {
          "model_module": "@jupyter-widgets/controls",
          "model_name": "HBoxModel",
          "model_module_version": "1.5.0",
          "state": {
            "_dom_classes": [],
            "_model_module": "@jupyter-widgets/controls",
            "_model_module_version": "1.5.0",
            "_model_name": "HBoxModel",
            "_view_count": null,
            "_view_module": "@jupyter-widgets/controls",
            "_view_module_version": "1.5.0",
            "_view_name": "HBoxView",
            "box_style": "",
            "children": [
              "IPY_MODEL_a390ee36d08f4cf1868bdec802e442e5",
              "IPY_MODEL_37c79f23161f4438831b367a4fb378e2",
              "IPY_MODEL_3d0a301f939f427ab55a6ca197ee9440"
            ],
            "layout": "IPY_MODEL_f1fbb1decb554b0fa32000901ab989df"
          }
        },
        "a390ee36d08f4cf1868bdec802e442e5": {
          "model_module": "@jupyter-widgets/controls",
          "model_name": "HTMLModel",
          "model_module_version": "1.5.0",
          "state": {
            "_dom_classes": [],
            "_model_module": "@jupyter-widgets/controls",
            "_model_module_version": "1.5.0",
            "_model_name": "HTMLModel",
            "_view_count": null,
            "_view_module": "@jupyter-widgets/controls",
            "_view_module_version": "1.5.0",
            "_view_name": "HTMLView",
            "description": "",
            "description_tooltip": null,
            "layout": "IPY_MODEL_5acac0a96b834497aef6557fe3b0190d",
            "placeholder": "​",
            "style": "IPY_MODEL_68e37a9c8aa34eb38a3214e9def282d3",
            "value": ""
          }
        },
        "37c79f23161f4438831b367a4fb378e2": {
          "model_module": "@jupyter-widgets/controls",
          "model_name": "FloatProgressModel",
          "model_module_version": "1.5.0",
          "state": {
            "_dom_classes": [],
            "_model_module": "@jupyter-widgets/controls",
            "_model_module_version": "1.5.0",
            "_model_name": "FloatProgressModel",
            "_view_count": null,
            "_view_module": "@jupyter-widgets/controls",
            "_view_module_version": "1.5.0",
            "_view_name": "ProgressView",
            "bar_style": "success",
            "description": "",
            "description_tooltip": null,
            "layout": "IPY_MODEL_a8d336d7173e401a95f8f88ee88265b7",
            "max": 5148,
            "min": 0,
            "orientation": "horizontal",
            "style": "IPY_MODEL_48e3b8861da944fc840faed007ceffd6",
            "value": 5148
          }
        },
        "3d0a301f939f427ab55a6ca197ee9440": {
          "model_module": "@jupyter-widgets/controls",
          "model_name": "HTMLModel",
          "model_module_version": "1.5.0",
          "state": {
            "_dom_classes": [],
            "_model_module": "@jupyter-widgets/controls",
            "_model_module_version": "1.5.0",
            "_model_name": "HTMLModel",
            "_view_count": null,
            "_view_module": "@jupyter-widgets/controls",
            "_view_module_version": "1.5.0",
            "_view_name": "HTMLView",
            "description": "",
            "description_tooltip": null,
            "layout": "IPY_MODEL_0d9449c6b2184a508923918d9187dcf3",
            "placeholder": "​",
            "style": "IPY_MODEL_aa990f3a7a5d496694fd37f775b849bf",
            "value": " 6144/? [00:00&lt;00:00, 213922.98it/s]"
          }
        },
        "f1fbb1decb554b0fa32000901ab989df": {
          "model_module": "@jupyter-widgets/base",
          "model_name": "LayoutModel",
          "model_module_version": "1.2.0",
          "state": {
            "_model_module": "@jupyter-widgets/base",
            "_model_module_version": "1.2.0",
            "_model_name": "LayoutModel",
            "_view_count": null,
            "_view_module": "@jupyter-widgets/base",
            "_view_module_version": "1.2.0",
            "_view_name": "LayoutView",
            "align_content": null,
            "align_items": null,
            "align_self": null,
            "border": null,
            "bottom": null,
            "display": null,
            "flex": null,
            "flex_flow": null,
            "grid_area": null,
            "grid_auto_columns": null,
            "grid_auto_flow": null,
            "grid_auto_rows": null,
            "grid_column": null,
            "grid_gap": null,
            "grid_row": null,
            "grid_template_areas": null,
            "grid_template_columns": null,
            "grid_template_rows": null,
            "height": null,
            "justify_content": null,
            "justify_items": null,
            "left": null,
            "margin": null,
            "max_height": null,
            "max_width": null,
            "min_height": null,
            "min_width": null,
            "object_fit": null,
            "object_position": null,
            "order": null,
            "overflow": null,
            "overflow_x": null,
            "overflow_y": null,
            "padding": null,
            "right": null,
            "top": null,
            "visibility": null,
            "width": null
          }
        },
        "5acac0a96b834497aef6557fe3b0190d": {
          "model_module": "@jupyter-widgets/base",
          "model_name": "LayoutModel",
          "model_module_version": "1.2.0",
          "state": {
            "_model_module": "@jupyter-widgets/base",
            "_model_module_version": "1.2.0",
            "_model_name": "LayoutModel",
            "_view_count": null,
            "_view_module": "@jupyter-widgets/base",
            "_view_module_version": "1.2.0",
            "_view_name": "LayoutView",
            "align_content": null,
            "align_items": null,
            "align_self": null,
            "border": null,
            "bottom": null,
            "display": null,
            "flex": null,
            "flex_flow": null,
            "grid_area": null,
            "grid_auto_columns": null,
            "grid_auto_flow": null,
            "grid_auto_rows": null,
            "grid_column": null,
            "grid_gap": null,
            "grid_row": null,
            "grid_template_areas": null,
            "grid_template_columns": null,
            "grid_template_rows": null,
            "height": null,
            "justify_content": null,
            "justify_items": null,
            "left": null,
            "margin": null,
            "max_height": null,
            "max_width": null,
            "min_height": null,
            "min_width": null,
            "object_fit": null,
            "object_position": null,
            "order": null,
            "overflow": null,
            "overflow_x": null,
            "overflow_y": null,
            "padding": null,
            "right": null,
            "top": null,
            "visibility": null,
            "width": null
          }
        },
        "68e37a9c8aa34eb38a3214e9def282d3": {
          "model_module": "@jupyter-widgets/controls",
          "model_name": "DescriptionStyleModel",
          "model_module_version": "1.5.0",
          "state": {
            "_model_module": "@jupyter-widgets/controls",
            "_model_module_version": "1.5.0",
            "_model_name": "DescriptionStyleModel",
            "_view_count": null,
            "_view_module": "@jupyter-widgets/base",
            "_view_module_version": "1.2.0",
            "_view_name": "StyleView",
            "description_width": ""
          }
        },
        "a8d336d7173e401a95f8f88ee88265b7": {
          "model_module": "@jupyter-widgets/base",
          "model_name": "LayoutModel",
          "model_module_version": "1.2.0",
          "state": {
            "_model_module": "@jupyter-widgets/base",
            "_model_module_version": "1.2.0",
            "_model_name": "LayoutModel",
            "_view_count": null,
            "_view_module": "@jupyter-widgets/base",
            "_view_module_version": "1.2.0",
            "_view_name": "LayoutView",
            "align_content": null,
            "align_items": null,
            "align_self": null,
            "border": null,
            "bottom": null,
            "display": null,
            "flex": null,
            "flex_flow": null,
            "grid_area": null,
            "grid_auto_columns": null,
            "grid_auto_flow": null,
            "grid_auto_rows": null,
            "grid_column": null,
            "grid_gap": null,
            "grid_row": null,
            "grid_template_areas": null,
            "grid_template_columns": null,
            "grid_template_rows": null,
            "height": null,
            "justify_content": null,
            "justify_items": null,
            "left": null,
            "margin": null,
            "max_height": null,
            "max_width": null,
            "min_height": null,
            "min_width": null,
            "object_fit": null,
            "object_position": null,
            "order": null,
            "overflow": null,
            "overflow_x": null,
            "overflow_y": null,
            "padding": null,
            "right": null,
            "top": null,
            "visibility": null,
            "width": null
          }
        },
        "48e3b8861da944fc840faed007ceffd6": {
          "model_module": "@jupyter-widgets/controls",
          "model_name": "ProgressStyleModel",
          "model_module_version": "1.5.0",
          "state": {
            "_model_module": "@jupyter-widgets/controls",
            "_model_module_version": "1.5.0",
            "_model_name": "ProgressStyleModel",
            "_view_count": null,
            "_view_module": "@jupyter-widgets/base",
            "_view_module_version": "1.2.0",
            "_view_name": "StyleView",
            "bar_color": null,
            "description_width": ""
          }
        },
        "0d9449c6b2184a508923918d9187dcf3": {
          "model_module": "@jupyter-widgets/base",
          "model_name": "LayoutModel",
          "model_module_version": "1.2.0",
          "state": {
            "_model_module": "@jupyter-widgets/base",
            "_model_module_version": "1.2.0",
            "_model_name": "LayoutModel",
            "_view_count": null,
            "_view_module": "@jupyter-widgets/base",
            "_view_module_version": "1.2.0",
            "_view_name": "LayoutView",
            "align_content": null,
            "align_items": null,
            "align_self": null,
            "border": null,
            "bottom": null,
            "display": null,
            "flex": null,
            "flex_flow": null,
            "grid_area": null,
            "grid_auto_columns": null,
            "grid_auto_flow": null,
            "grid_auto_rows": null,
            "grid_column": null,
            "grid_gap": null,
            "grid_row": null,
            "grid_template_areas": null,
            "grid_template_columns": null,
            "grid_template_rows": null,
            "height": null,
            "justify_content": null,
            "justify_items": null,
            "left": null,
            "margin": null,
            "max_height": null,
            "max_width": null,
            "min_height": null,
            "min_width": null,
            "object_fit": null,
            "object_position": null,
            "order": null,
            "overflow": null,
            "overflow_x": null,
            "overflow_y": null,
            "padding": null,
            "right": null,
            "top": null,
            "visibility": null,
            "width": null
          }
        },
        "aa990f3a7a5d496694fd37f775b849bf": {
          "model_module": "@jupyter-widgets/controls",
          "model_name": "DescriptionStyleModel",
          "model_module_version": "1.5.0",
          "state": {
            "_model_module": "@jupyter-widgets/controls",
            "_model_module_version": "1.5.0",
            "_model_name": "DescriptionStyleModel",
            "_view_count": null,
            "_view_module": "@jupyter-widgets/base",
            "_view_module_version": "1.2.0",
            "_view_name": "StyleView",
            "description_width": ""
          }
        }
      }
    }
  },
  "cells": [
    {
      "cell_type": "markdown",
      "metadata": {
        "id": "view-in-github",
        "colab_type": "text"
      },
      "source": [
        "<a href=\"https://colab.research.google.com/github/The20thDuck/Neuro-140-Project/blob/main/main_experiments/FashionGAN.ipynb\" target=\"_parent\"><img src=\"https://colab.research.google.com/assets/colab-badge.svg\" alt=\"Open In Colab\"/></a>"
      ]
    },
    {
      "cell_type": "code",
      "execution_count": null,
      "metadata": {
        "id": "nWSTlMOZEhNP",
        "colab": {
          "base_uri": "https://localhost:8080/"
        },
        "outputId": "05f56d5e-6f97-4989-b74b-62b00c88e899"
      },
      "outputs": [
        {
          "output_type": "stream",
          "name": "stdout",
          "text": [
            "\u001b[K     |████████████████████████████████| 1.8 MB 3.7 MB/s \n",
            "\u001b[K     |████████████████████████████████| 181 kB 28.1 MB/s \n",
            "\u001b[K     |████████████████████████████████| 144 kB 23.8 MB/s \n",
            "\u001b[K     |████████████████████████████████| 63 kB 2.0 MB/s \n",
            "\u001b[?25h  Building wheel for pathtools (setup.py) ... \u001b[?25l\u001b[?25hdone\n"
          ]
        }
      ],
      "source": [
        "import torch as t\n",
        "import torchvision\n",
        "from tqdm import tqdm\n",
        "import torchvision.transforms as transforms\n",
        "import matplotlib.pyplot as plt\n",
        "import matplotlib\n",
        "from matplotlib.colors import Colormap\n",
        "!pip install wandb -qqq\n",
        "import wandb"
      ]
    },
    {
      "cell_type": "code",
      "source": [
        "wandb.login()"
      ],
      "metadata": {
        "colab": {
          "base_uri": "https://localhost:8080/",
          "height": 70
        },
        "id": "v4N1efb7ir0W",
        "outputId": "c36dfad9-f3e7-4b2e-ab60-4497e8112ff9"
      },
      "execution_count": null,
      "outputs": [
        {
          "output_type": "display_data",
          "data": {
            "text/plain": [
              "<IPython.core.display.Javascript object>"
            ],
            "application/javascript": [
              "\n",
              "        window._wandbApiKey = new Promise((resolve, reject) => {\n",
              "            function loadScript(url) {\n",
              "            return new Promise(function(resolve, reject) {\n",
              "                let newScript = document.createElement(\"script\");\n",
              "                newScript.onerror = reject;\n",
              "                newScript.onload = resolve;\n",
              "                document.body.appendChild(newScript);\n",
              "                newScript.src = url;\n",
              "            });\n",
              "            }\n",
              "            loadScript(\"https://cdn.jsdelivr.net/npm/postmate/build/postmate.min.js\").then(() => {\n",
              "            const iframe = document.createElement('iframe')\n",
              "            iframe.style.cssText = \"width:0;height:0;border:none\"\n",
              "            document.body.appendChild(iframe)\n",
              "            const handshake = new Postmate({\n",
              "                container: iframe,\n",
              "                url: 'https://wandb.ai/authorize'\n",
              "            });\n",
              "            const timeout = setTimeout(() => reject(\"Couldn't auto authenticate\"), 5000)\n",
              "            handshake.then(function(child) {\n",
              "                child.on('authorize', data => {\n",
              "                    clearTimeout(timeout)\n",
              "                    resolve(data)\n",
              "                });\n",
              "            });\n",
              "            })\n",
              "        });\n",
              "    "
            ]
          },
          "metadata": {}
        },
        {
          "output_type": "stream",
          "name": "stderr",
          "text": [
            "\u001b[34m\u001b[1mwandb\u001b[0m: Appending key for api.wandb.ai to your netrc file: /root/.netrc\n"
          ]
        },
        {
          "output_type": "execute_result",
          "data": {
            "text/plain": [
              "True"
            ]
          },
          "metadata": {},
          "execution_count": 3
        }
      ]
    },
    {
      "cell_type": "code",
      "source": [
        "train_data = torchvision.datasets.FashionMNIST(\"data\", train=True, transform=transforms.Compose([transforms.ToTensor(), transforms.Normalize([0.5], [0.5])]), download=True)\n",
        "train_loader = t.utils.data.DataLoader(train_data, batch_size = 128, shuffle=True, num_workers=2)"
      ],
      "metadata": {
        "id": "xFEYcUZbEnpa",
        "colab": {
          "base_uri": "https://localhost:8080/",
          "height": 431,
          "referenced_widgets": [
            "9f956a842332443399dd0b07f6cee38b",
            "f5f097c32deb46a4ad3bacfdb69b6d80",
            "6176f94c73334ce892ebfbcb1fecf855",
            "42172722534f433bb35695456cc43931",
            "e9f827b110bd49519d889d88527757f9",
            "05c2c1ebbbaf4cd186e9849fdd82bed5",
            "27298f88afc74b4595b6efac675f4304",
            "03b015e509eb4113962c4624d862932d",
            "edf50d91bb8e4626877bbf3391c23e70",
            "f0953d4cd92d471391d4ef74ae026725",
            "d558f93ee92548ddaf87a45a1f2f8c16",
            "43d651640fff44f08f2707b6116ecfc1",
            "18a8047e29c84df186fbac4a35239288",
            "44ec9c876f2747ea817d27cbd1dd59ba",
            "dc44e1e48bae4fa38de7ac1c79ff3793",
            "28a76b4d12304aeab784eaba54a7e22f",
            "9f6f7c07b0b840e4ba70475801d7cab7",
            "5a7dc40492a84e938586e014bb2336b1",
            "3f152cf3059a46c7a890d65797291e07",
            "a8306f0d48054e288a8c34adb145f3db",
            "dfc96e029658460c805d08ffbebf091b",
            "cafed34292234dafa8e01f37312c95a5",
            "183e4636d9d2464fb74979da72c358e4",
            "681651da4e4a4627abd5298dd0c80ef2",
            "e607158021c0431893ff45029dd49e65",
            "d40846d35b3e4077863ec92da7a8ecfe",
            "30d0ff294cef437c8b7d4df3c4bb0cf0",
            "4a6d016122994e9c8d15c5dbc163cb36",
            "6b49ffa5da0c466cbcd599f0f7c7ccf3",
            "54bffc0d5b92441d96944e5fd2e4e83b",
            "3f01d4afe0394dd59fa5decbdd393ed5",
            "85b67f295c6640f491584663fd95f625",
            "7004215b3684403aa7b53266d5471ca3",
            "438efdd8e3664ae1b87ed099208a776c",
            "a390ee36d08f4cf1868bdec802e442e5",
            "37c79f23161f4438831b367a4fb378e2",
            "3d0a301f939f427ab55a6ca197ee9440",
            "f1fbb1decb554b0fa32000901ab989df",
            "5acac0a96b834497aef6557fe3b0190d",
            "68e37a9c8aa34eb38a3214e9def282d3",
            "a8d336d7173e401a95f8f88ee88265b7",
            "48e3b8861da944fc840faed007ceffd6",
            "0d9449c6b2184a508923918d9187dcf3",
            "aa990f3a7a5d496694fd37f775b849bf"
          ]
        },
        "outputId": "1a86ee7d-06a6-4595-d1d7-b501c6209322"
      },
      "execution_count": null,
      "outputs": [
        {
          "output_type": "stream",
          "name": "stdout",
          "text": [
            "Downloading http://fashion-mnist.s3-website.eu-central-1.amazonaws.com/train-images-idx3-ubyte.gz\n",
            "Downloading http://fashion-mnist.s3-website.eu-central-1.amazonaws.com/train-images-idx3-ubyte.gz to data/FashionMNIST/raw/train-images-idx3-ubyte.gz\n"
          ]
        },
        {
          "output_type": "display_data",
          "data": {
            "text/plain": [
              "  0%|          | 0/26421880 [00:00<?, ?it/s]"
            ],
            "application/vnd.jupyter.widget-view+json": {
              "version_major": 2,
              "version_minor": 0,
              "model_id": "9f956a842332443399dd0b07f6cee38b"
            }
          },
          "metadata": {}
        },
        {
          "output_type": "stream",
          "name": "stdout",
          "text": [
            "Extracting data/FashionMNIST/raw/train-images-idx3-ubyte.gz to data/FashionMNIST/raw\n",
            "\n",
            "Downloading http://fashion-mnist.s3-website.eu-central-1.amazonaws.com/train-labels-idx1-ubyte.gz\n",
            "Downloading http://fashion-mnist.s3-website.eu-central-1.amazonaws.com/train-labels-idx1-ubyte.gz to data/FashionMNIST/raw/train-labels-idx1-ubyte.gz\n"
          ]
        },
        {
          "output_type": "display_data",
          "data": {
            "text/plain": [
              "  0%|          | 0/29515 [00:00<?, ?it/s]"
            ],
            "application/vnd.jupyter.widget-view+json": {
              "version_major": 2,
              "version_minor": 0,
              "model_id": "43d651640fff44f08f2707b6116ecfc1"
            }
          },
          "metadata": {}
        },
        {
          "output_type": "stream",
          "name": "stdout",
          "text": [
            "Extracting data/FashionMNIST/raw/train-labels-idx1-ubyte.gz to data/FashionMNIST/raw\n",
            "\n",
            "Downloading http://fashion-mnist.s3-website.eu-central-1.amazonaws.com/t10k-images-idx3-ubyte.gz\n",
            "Downloading http://fashion-mnist.s3-website.eu-central-1.amazonaws.com/t10k-images-idx3-ubyte.gz to data/FashionMNIST/raw/t10k-images-idx3-ubyte.gz\n"
          ]
        },
        {
          "output_type": "display_data",
          "data": {
            "text/plain": [
              "  0%|          | 0/4422102 [00:00<?, ?it/s]"
            ],
            "application/vnd.jupyter.widget-view+json": {
              "version_major": 2,
              "version_minor": 0,
              "model_id": "183e4636d9d2464fb74979da72c358e4"
            }
          },
          "metadata": {}
        },
        {
          "output_type": "stream",
          "name": "stdout",
          "text": [
            "Extracting data/FashionMNIST/raw/t10k-images-idx3-ubyte.gz to data/FashionMNIST/raw\n",
            "\n",
            "Downloading http://fashion-mnist.s3-website.eu-central-1.amazonaws.com/t10k-labels-idx1-ubyte.gz\n",
            "Downloading http://fashion-mnist.s3-website.eu-central-1.amazonaws.com/t10k-labels-idx1-ubyte.gz to data/FashionMNIST/raw/t10k-labels-idx1-ubyte.gz\n"
          ]
        },
        {
          "output_type": "display_data",
          "data": {
            "text/plain": [
              "  0%|          | 0/5148 [00:00<?, ?it/s]"
            ],
            "application/vnd.jupyter.widget-view+json": {
              "version_major": 2,
              "version_minor": 0,
              "model_id": "438efdd8e3664ae1b87ed099208a776c"
            }
          },
          "metadata": {}
        },
        {
          "output_type": "stream",
          "name": "stdout",
          "text": [
            "Extracting data/FashionMNIST/raw/t10k-labels-idx1-ubyte.gz to data/FashionMNIST/raw\n",
            "\n"
          ]
        }
      ]
    },
    {
      "cell_type": "code",
      "source": [
        "plt.imshow(train_data[0][0].squeeze(), plt.cm.binary)"
      ],
      "metadata": {
        "colab": {
          "base_uri": "https://localhost:8080/",
          "height": 283
        },
        "id": "irR9HG8qFoZz",
        "outputId": "8860ac80-50d5-4719-92a4-1e3cfe7e794b"
      },
      "execution_count": null,
      "outputs": [
        {
          "output_type": "execute_result",
          "data": {
            "text/plain": [
              "<matplotlib.image.AxesImage at 0x7f0658c4af10>"
            ]
          },
          "metadata": {},
          "execution_count": 5
        },
        {
          "output_type": "display_data",
          "data": {
            "text/plain": [
              "<Figure size 432x288 with 1 Axes>"
            ],
            "image/png": "[encoded data removed]"
          },
          "metadata": {
            "needs_background": "light"
          }
        }
      ]
    },
    {
      "cell_type": "code",
      "source": [
        "!pip install einops\n",
        "import einops\n",
        "ngc = 64\n",
        "latent_size = 100\n",
        "num_classes = 10\n",
        "emb_size = 256\n",
        "\n",
        "class Generator(t.nn.Module):\n",
        "  def __init__(self, \n",
        "               latent_size=latent_size, \n",
        "               num_classes = num_classes, \n",
        "               emb_size = 96, \n",
        "               nhead=4,\n",
        "               L1 = 4,\n",
        "               L2 = 4,\n",
        "               img_size = 28,\n",
        "               in_channels=1):\n",
        "    super().__init__()\n",
        "    self.emb_size = emb_size\n",
        "    self.img_size = img_size\n",
        "    # self.latent_size = latent_size\n",
        "    self.linear1 = t.nn.Linear(latent_size, emb_size*(img_size//4)**2)\n",
        "    self.pos_emb1 = t.nn.Parameter(t.randn(1, (img_size//4)**2, emb_size))\n",
        "    self.block1 = t.nn.Sequential(\n",
        "        *[t.nn.TransformerEncoderLayer(\n",
        "        emb_size,\n",
        "        nhead=nhead, \n",
        "        dim_feedforward=emb_size*4, \n",
        "        activation=\"gelu\",\n",
        "        norm_first=True,\n",
        "        batch_first=True, \n",
        "        dropout=0., \n",
        "        layer_norm_eps=1e-12\n",
        "      ) for _ in range(L1)]\n",
        "    )\n",
        "    self.pixel1 = t.nn.PixelShuffle(2)\n",
        "\n",
        "    self.pos_emb2 = t.nn.Parameter(t.randn(1, (img_size//2)**2, emb_size//4))\n",
        "    self.block2 = t.nn.Sequential(\n",
        "        *[t.nn.TransformerEncoderLayer(\n",
        "        emb_size//4,\n",
        "        nhead=nhead, \n",
        "        dim_feedforward=emb_size, \n",
        "        activation=\"gelu\",\n",
        "        norm_first=True,\n",
        "        batch_first=True, \n",
        "        dropout=0., \n",
        "        layer_norm_eps=1e-12\n",
        "      ) for _ in range(L2)]\n",
        "    )\n",
        "    self.pixel2 = t.nn.PixelShuffle(2)\n",
        "    self.project = t.nn.Linear(emb_size//16, in_channels)\n",
        "    self.tanh = t.nn.Tanh()\n",
        "\n",
        "  def forward(self, z):\n",
        "    b = z.shape[0]\n",
        "    emb = self.linear1(z).view((b, (self.img_size//4)**2, self.emb_size))\n",
        "    emb = self.block1(emb + self.pos_emb1)\n",
        "    emb_to_pixel = \"b (h w) c -> b c h w\"\n",
        "    pixel_to_emb = \"b c h w -> b (h w) c\"\n",
        "\n",
        "    pixels = einops.rearrange(emb, emb_to_pixel, h = self.img_size//4)\n",
        "    pixels = self.pixel1(pixels)\n",
        "    emb = einops.rearrange(pixels, pixel_to_emb, h = self.img_size//2)\n",
        "    emb = self.block2(emb + self.pos_emb2)\n",
        "    pixels = einops.rearrange(emb, emb_to_pixel, h = self.img_size//2)\n",
        "    pixels = self.pixel2(pixels)\n",
        "    emb = einops.rearrange(pixels, pixel_to_emb, h = self.img_size)\n",
        "    emb = self.project(emb)\n",
        "    pixels = einops.rearrange(emb, emb_to_pixel, h = self.img_size)\n",
        "    return self.tanh(pixels)\n",
        "\n",
        "class Generator_Conv(t.nn.Module):\n",
        "  def __init__(self, latent_size=latent_size, num_classes = num_classes):\n",
        "    super().__init__()\n",
        "    t.nn.ConvTranspose2d()\n",
        "    self.layers = t.nn.Sequential(\n",
        "        t.nn.ConvTranspose2d(latent_size, ngc*4, 4, 1, 0),\n",
        "        t.nn.BatchNorm2d(ngc*4),\n",
        "        t.nn.ReLU(),\n",
        "        t.nn.ConvTranspose2d(ngc*4, ngc*2, 4, 2, 1),\n",
        "        t.nn.BatchNorm2d(ngc*2),\n",
        "        t.nn.ReLU(),\n",
        "        t.nn.ConvTranspose2d(ngc*2, ngc*1, 4, 2, 1),\n",
        "        t.nn.BatchNorm2d(ngc),\n",
        "        t.nn.ReLU(),\n",
        "        t.nn.ConvTranspose2d(ngc*1, 1, 4, 2, 3),\n",
        "        t.nn.Tanh()\n",
        "    )\n",
        "  def forward(self, z):\n",
        "    return self.layers(z.unsqueeze(-1).unsqueeze(-1))\n",
        "\n",
        "class PatchEmbedding(t.nn.Module):\n",
        "  def __init__(self, in_channels, patch_size, emb_size, imgsize):\n",
        "    super().__init__()\n",
        "    self.cls_token = t.nn.Parameter(t.randn(1, 1, emb_size)) # b, n, emb_size. Add to the list of module params\n",
        "    self.n = (imgsize//patch_size)**2\n",
        "    self.emb_size = emb_size\n",
        "    self.position_embeddings = t.nn.Parameter(t.randn(1, self.n + 1, emb_size)) # +1 for cls\n",
        "    self.projection = t.nn.Conv2d(in_channels, emb_size, patch_size, patch_size, 0)\n",
        "\n",
        "  def forward(self, inputs):\n",
        "    token_embeddings = einops.rearrange(self.projection(inputs), 'b c h w -> b (h w) c')\n",
        "    b = inputs.shape[0]\n",
        "    cls_embeddings = self.cls_token.repeat((b, 1, 1))\n",
        "    # print(cls_embeddings.shape, token_embeddings.shape, self.position_embeddings.shape)\n",
        "    return t.cat((cls_embeddings, token_embeddings), dim = 1) + self.position_embeddings\n",
        "\n",
        "class ClassificationHead(t.nn.Module):\n",
        "  def __init__(self, num_classes, emb_size):\n",
        "    super().__init__()\n",
        "    self.ln = t.nn.LayerNorm((emb_size,), eps = 1e-12)\n",
        "    self.layer = t.nn.Linear(emb_size, num_classes)\n",
        "\n",
        "  def forward(self, x):\n",
        "    return self.layer(self.ln(x)[:,0,:])\n",
        "\n",
        "\n",
        "class Discriminator(t.nn.Module):\n",
        "  def __init__(self, in_channels: int = 1, patch_size: int = 4, emb_size: int = emb_size, nhead=8, imgsize=28, num_classes=1, L = 6, from_hugging = False):\n",
        "    super().__init__()\n",
        "    self.patch_emb = PatchEmbedding(in_channels, patch_size, emb_size, imgsize)\n",
        "    # self.from_hugging = from_hugging\n",
        "    # if from_hugging:\n",
        "    #   config = ViTConfig(hidden_size=emb_size, num_hidden_layers = L, num_attention_heads = nhead, intermediate_size=emb_size*4, patch_size=patch_size, image_size=imgsize, encoder_stride=patch_size)\n",
        "    #   self.encoder = ViTForImageClassification(config).vit.encoder\n",
        "    # else:\n",
        "    self.encoder = t.nn.Sequential(*[\n",
        "      t.nn.TransformerEncoderLayer(\n",
        "        emb_size,\n",
        "        nhead=nhead, \n",
        "        dim_feedforward=emb_size*4, \n",
        "        activation=\"gelu\",\n",
        "        norm_first=True,\n",
        "        batch_first=True, \n",
        "        dropout=0., \n",
        "        layer_norm_eps=1e-12\n",
        "      ) for _ in range(L)])\n",
        "    self.classifier = ClassificationHead(num_classes, emb_size=emb_size)\n",
        "\n",
        "  def forward(self, x):\n",
        "    emb = self.patch_emb(x)\n",
        "    encoding = self.encoder(emb)\n",
        "    return t.sigmoid(self.classifier(encoding)).flatten()\n",
        "    \n",
        "\n",
        "class Discriminator_Conv(t.nn.Module):\n",
        "  def __init__(self, num_classes=num_classes):\n",
        "    super().__init__()\n",
        "    self.layers = t.nn.Sequential(\n",
        "        t.nn.Conv2d(1, ngc, 4, 2, 3),\n",
        "        t.nn.BatchNorm2d(ngc*1),\n",
        "        t.nn.LeakyReLU(0.2),\n",
        "        t.nn.Conv2d(ngc*1, ngc*2, 4, 2, 1),\n",
        "        t.nn.BatchNorm2d(ngc*2),\n",
        "        t.nn.LeakyReLU(0.2),\n",
        "        t.nn.Conv2d(ngc*2, ngc*4, 4, 2, 1),\n",
        "        t.nn.BatchNorm2d(ngc*4),\n",
        "        t.nn.LeakyReLU(0.2),\n",
        "        t.nn.Conv2d(ngc*4, 1, 4, 1, 0),\n",
        "        t.nn.Sigmoid()\n",
        "    )\n",
        "  def forward(self, x):\n",
        "    return self.layers(x).flatten()\n"
      ],
      "metadata": {
        "id": "L72Wx4DYFrBX",
        "colab": {
          "base_uri": "https://localhost:8080/"
        },
        "outputId": "ae4e646f-33c1-4f6b-cba7-43d8be05fc3d"
      },
      "execution_count": null,
      "outputs": [
        {
          "output_type": "stream",
          "name": "stdout",
          "text": [
            "Requirement already satisfied: einops in /usr/local/lib/python3.7/dist-packages (0.4.1)\n"
          ]
        }
      ]
    },
    {
      "cell_type": "code",
      "source": [
        "run = 3 ## CHANGE THIS\n",
        "lrs = [2e-5, 5e-5, 2e-4, 5e-4, 2e-3]\n",
        "lr = lrs[run]\n",
        "beta1 = 0.5\n",
        "gen = Generator().cuda()\n",
        "disc = Discriminator().cuda()\n",
        "optim_g = t.optim.Adam(gen.parameters(), lr=lr, betas=(beta1, 0.999))\n",
        "optim_d = t.optim.Adam(disc.parameters(), lr=lr, betas=(beta1, 0.999))\n",
        "criterion = t.nn.BCELoss()\n",
        "\n",
        "arch = \"Transformer\"\n",
        "\n",
        "wandb.init(\n",
        "    # Set the project where this run will be logged\n",
        "    project=\"Neuro-140\", \n",
        "    # We pass a run name (otherwise it’ll be randomly assigned, like sunshine-lollypop-10)\n",
        "    name=f\"transformer_gen_{run}\", \n",
        "    # Track hyperparameters and run metadata\n",
        "    config={\n",
        "    \"learning_rate\": lr,\n",
        "    \"emb_size\": emb_size,\n",
        "    \"architecture\": arch\n",
        "    })"
      ],
      "metadata": {
        "id": "h2cJCyxtI37g",
        "colab": {
          "base_uri": "https://localhost:8080/",
          "height": 460,
          "referenced_widgets": [
            "f0b68e7f53894dcc81425e4b7c980bf5"
          ]
        },
        "outputId": "0d1fea98-ab07-4421-f06d-f0a5f00f26db"
      },
      "execution_count": null,
      "outputs": [
        {
          "output_type": "display_data",
          "data": {
            "text/plain": [
              "<IPython.core.display.HTML object>"
            ],
            "text/html": [
              "Finishing last run (ID:hr7jsqkl) before initializing another..."
            ]
          },
          "metadata": {}
        },
        {
          "output_type": "display_data",
          "data": {
            "text/plain": [
              "<IPython.core.display.HTML object>"
            ],
            "text/html": [
              "Waiting for W&B process to finish... <strong style=\"color:green\">(success).</strong>"
            ]
          },
          "metadata": {}
        },
        {
          "output_type": "display_data",
          "data": {
            "text/plain": [
              "VBox(children=(Label(value='0.004 MB of 0.004 MB uploaded (0.000 MB deduped)\\r'), FloatProgress(value=1.0, max…"
            ],
            "application/vnd.jupyter.widget-view+json": {
              "version_major": 2,
              "version_minor": 0,
              "model_id": "f0b68e7f53894dcc81425e4b7c980bf5"
            }
          },
          "metadata": {}
        },
        {
          "output_type": "display_data",
          "data": {
            "text/plain": [
              "<IPython.core.display.HTML object>"
            ],
            "text/html": [
              "<style>\n",
              "    table.wandb td:nth-child(1) { padding: 0 10px; text-align: right }\n",
              "    .wandb-row { display: flex; flex-direction: row; flex-wrap: wrap; width: 100% }\n",
              "    .wandb-col { display: flex; flex-direction: column; flex-basis: 100%; flex: 1; padding: 10px; }\n",
              "    </style>\n",
              "<div class=\"wandb-row\"><div class=\"wandb-col\"><h3>Run history:</h3><br/><table class=\"wandb\"><tr><td>D-Loss</td><td>▇██▁</td></tr><tr><td>G-Loss</td><td>█▄▁▆</td></tr><tr><td>Transformer/FID</td><td>▁</td></tr><tr><td>dgz</td><td>▅▅█▁</td></tr><tr><td>dx</td><td>▆▂▁█</td></tr><tr><td>epoch</td><td>▁</td></tr><tr><td>iter</td><td>▁▃▆█</td></tr></table><br/></div><div class=\"wandb-col\"><h3>Run summary:</h3><br/><table class=\"wandb\"><tr><td>D-Loss</td><td>0.65708</td></tr><tr><td>G-Loss</td><td>2.26007</td></tr><tr><td>Transformer/FID</td><td>406.54431</td></tr><tr><td>dgz</td><td>0.18149</td></tr><tr><td>dx</td><td>0.80864</td></tr><tr><td>epoch</td><td>2</td></tr><tr><td>iter</td><td>500</td></tr></table><br/></div></div>"
            ]
          },
          "metadata": {}
        },
        {
          "output_type": "display_data",
          "data": {
            "text/plain": [
              "<IPython.core.display.HTML object>"
            ],
            "text/html": [
              "Synced <strong style=\"color:#cdcd00\">transformer_gen_3</strong>: <a href=\"https://wandb.ai/wsunadawong/Neuro-140/runs/hr7jsqkl\" target=\"_blank\">https://wandb.ai/wsunadawong/Neuro-140/runs/hr7jsqkl</a><br/>Synced 5 W&B file(s), 10 media file(s), 0 artifact file(s) and 0 other file(s)"
            ]
          },
          "metadata": {}
        },
        {
          "output_type": "display_data",
          "data": {
            "text/plain": [
              "<IPython.core.display.HTML object>"
            ],
            "text/html": [
              "Find logs at: <code>./wandb/run-20220503_033607-hr7jsqkl/logs</code>"
            ]
          },
          "metadata": {}
        },
        {
          "output_type": "display_data",
          "data": {
            "text/plain": [
              "<IPython.core.display.HTML object>"
            ],
            "text/html": [
              "Successfully finished last run (ID:hr7jsqkl). Initializing new run:<br/>"
            ]
          },
          "metadata": {}
        },
        {
          "output_type": "display_data",
          "data": {
            "text/plain": [
              "<IPython.core.display.HTML object>"
            ],
            "text/html": [
              "Tracking run with wandb version 0.12.15"
            ]
          },
          "metadata": {}
        },
        {
          "output_type": "display_data",
          "data": {
            "text/plain": [
              "<IPython.core.display.HTML object>"
            ],
            "text/html": [
              "Run data is saved locally in <code>/content/wandb/run-20220503_034526-255vng0n</code>"
            ]
          },
          "metadata": {}
        },
        {
          "output_type": "display_data",
          "data": {
            "text/plain": [
              "<IPython.core.display.HTML object>"
            ],
            "text/html": [
              "Syncing run <strong><a href=\"https://wandb.ai/wsunadawong/Neuro-140/runs/255vng0n\" target=\"_blank\">transformer_gen_3</a></strong> to <a href=\"https://wandb.ai/wsunadawong/Neuro-140\" target=\"_blank\">Weights & Biases</a> (<a href=\"https://wandb.me/run\" target=\"_blank\">docs</a>)<br/>"
            ]
          },
          "metadata": {}
        },
        {
          "output_type": "execute_result",
          "data": {
            "text/html": [
              "<button onClick=\"this.nextSibling.style.display='block';this.style.display='none';\">Display W&B run</button><iframe src=\"https://wandb.ai/wsunadawong/Neuro-140/runs/255vng0n?jupyter=true\" style=\"border:none;width:100%;height:420px;display:none;\"></iframe>"
            ],
            "text/plain": [
              "<wandb.sdk.wandb_run.Run at 0x7f0650094e50>"
            ]
          },
          "metadata": {},
          "execution_count": 25
        }
      ]
    },
    {
      "cell_type": "code",
      "source": [
        "!pip install pytorch-ignite pytorch-fid -q\n"
      ],
      "metadata": {
        "id": "kMvyq9drNJ6a"
      },
      "execution_count": null,
      "outputs": []
    },
    {
      "cell_type": "code",
      "source": [
        "from pytorch_fid.inception import InceptionV3\n",
        "\n",
        "device = \"cuda\"\n",
        "dims = 2048\n",
        "block_idx = InceptionV3.BLOCK_INDEX_BY_DIM[dims]\n",
        "model = InceptionV3([block_idx]).to(device)\n",
        "\n",
        "class WrapperInceptionV3(t.nn.Module):\n",
        "    \n",
        "    def __init__(self, fid_incv3):\n",
        "        super().__init__()\n",
        "        self.fid_incv3 = fid_incv3\n",
        "    \n",
        "    @t.no_grad()\n",
        "    def forward(self, x):\n",
        "        y = self.fid_incv3(x)\n",
        "        y = y[0]\n",
        "        y = y[:, :, 0, 0]\n",
        "        return y\n",
        "\n",
        "wrapper_model = WrapperInceptionV3(model)\n",
        "wrapper_model.eval();"
      ],
      "metadata": {
        "id": "NU96ucC_NLaE"
      },
      "execution_count": null,
      "outputs": []
    },
    {
      "cell_type": "code",
      "source": [
        "from ignite.metrics import FID\n",
        "from ignite.engine import Engine\n",
        "import ignite.distributed as idist\n",
        "def process_function(engine, batch):\n",
        "  return batch\n",
        "\n",
        "from torchvision import transforms\n",
        "preprocess = transforms.Compose([\n",
        "    transforms.Resize(299),\n",
        "    transforms.CenterCrop(299),\n",
        "    # transforms.Normalize(mean=[0.485, 0.456, 0.406], std=[0.229, 0.224, 0.225]),\n",
        "])\n",
        "engine = Engine(process_function)\n",
        "metric = FID(num_features=dims, feature_extractor=wrapper_model, device=idist.device())\n",
        "metric.attach(engine, \"fid\")"
      ],
      "metadata": {
        "id": "XjyKp-ovN6Ra"
      },
      "execution_count": null,
      "outputs": []
    },
    {
      "cell_type": "code",
      "source": [
        "def calc_fid(metric, gen):\n",
        "  metric.reset()\n",
        "  gen.eval()\n",
        "  # with t.no_grad():\n",
        "  for i, (x, y) in enumerate(tqdm(train_loader)):\n",
        "    b = x.shape[0]\n",
        "    z = t.randn(b, latent_size).cuda()\n",
        "    gz = gen(z)\n",
        "    gz_resize = preprocess(t.tile(gz, (1, 3, 1, 1)))\n",
        "    x_resize = preprocess(t.tile(x, (1, 3, 1, 1)))\n",
        "    metric.update([x_resize, gz_resize])\n",
        "    if i == 100:\n",
        "      break\n",
        "  gen.train()\n",
        "  return (metric.compute())"
      ],
      "metadata": {
        "id": "AjmnGIIzOS9J"
      },
      "execution_count": null,
      "outputs": []
    },
    {
      "cell_type": "code",
      "source": [
        "# wandb.finish()"
      ],
      "metadata": {
        "id": "GUKaydBw8F8f"
      },
      "execution_count": null,
      "outputs": []
    },
    {
      "cell_type": "code",
      "source": [
        "iter = 0\n",
        "epoch = 0\n",
        "fixed_z = t.randn(10, latent_size).cuda()"
      ],
      "metadata": {
        "id": "GEc-3RT8aZqm"
      },
      "execution_count": null,
      "outputs": []
    },
    {
      "cell_type": "code",
      "source": [
        "# training loop\n",
        "num_epochs = 30\n",
        "real_label = 1.\n",
        "fake_label = 0.\n",
        "\n",
        "\n",
        "# fid = calc_fid(metric, gen)\n",
        "# print(f\"{arch}/FID: {fid}\")\n",
        "# wandb.log({f\"{arch}/FID\": fid})\n",
        "\n",
        "d_losses = []\n",
        "g_losses = []\n",
        "dxs = []\n",
        "dgzs = []\n",
        "for e in range(num_epochs):\n",
        "  epoch += 1\n",
        "  for step, (x, _) in enumerate(tqdm(train_loader)):\n",
        "    iter += 1\n",
        "    # lab = t.nn.functional.one_hot(y.cuda(), num_classes = num_classes).float()\n",
        "    # update G\n",
        "    gen.zero_grad()\n",
        "    disc.zero_grad()\n",
        "    b = x.shape[0]\n",
        "    with t.no_grad():\n",
        "      z = t.randn(b, latent_size).cuda()\n",
        "    gz = gen(z)\n",
        "    dgz = disc(gz)\n",
        "    \n",
        "    g_loss = criterion(dgz, t.full((b,), real_label).cuda())\n",
        "    g_losses.append(g_loss.item())\n",
        "    g_loss.backward()\n",
        "    optim_g.step()\n",
        "    # update D\n",
        "    disc.zero_grad()\n",
        "    dx = disc(x.cuda())\n",
        "    dgz = disc(gz.detach())\n",
        "    dxs.append(dx.detach())\n",
        "    dgzs.append(dgz.detach())\n",
        "\n",
        "    d_loss = criterion(dgz, t.full((b,), fake_label).cuda()) + criterion(dx, t.full((b,), real_label).cuda())\n",
        "    d_losses.append(d_loss.item())\n",
        "    d_loss.backward()\n",
        "    optim_d.step()\n",
        "\n",
        "    if iter % 100 == 0:\n",
        "      L_g = t.tensor(g_losses[-100:]).mean()\n",
        "      L_d = t.tensor(d_losses[-100:]).mean()\n",
        "      dx_mean = t.cat(dxs[-100:]).mean().item()\n",
        "      dgz_mean = t.cat(dgzs[-100:]).mean().item()\n",
        "      d_losses = []\n",
        "      g_losses = []\n",
        "      dxs = []\n",
        "      dgzs = []\n",
        "      wandb.log({\"G-Loss\": L_g, \n",
        "                 \"D-Loss\": L_d,\n",
        "                 \"dx\": dx_mean,\n",
        "                 \"dgz\": dgz_mean,\n",
        "                 \"iter\": iter\n",
        "                 })\n",
        "\n",
        "  with t.no_grad():\n",
        "    ims = gen(fixed_z).cpu()\n",
        "    \n",
        "  fid = calc_fid(metric, gen)\n",
        "  print(f\"{arch}/FID: {fid}\")\n",
        "  wandb.log({f\"{arch}/FID\": fid,\n",
        "            #  f\"{arch}/G-Loss\": t.tensor(g_losses).mean(), \n",
        "            #  f\"{arch}/D-Loss\": t.tensor(d_losses).mean(),\n",
        "             f\"{arch}/Images\": [wandb.Image(im.numpy()*255) for im in ims],\n",
        "             \"epoch\": epoch\n",
        "             })\n",
        "\n",
        "  \n",
        "\n"
      ],
      "metadata": {
        "id": "PPRW74B2I5vD",
        "colab": {
          "base_uri": "https://localhost:8080/"
        },
        "outputId": "a9208782-b6b8-47e2-f04e-53ded6ac05e2"
      },
      "execution_count": null,
      "outputs": [
        {
          "metadata": {
            "tags": null
          },
          "name": "stderr",
          "output_type": "stream",
          "text": [
            "100%|██████████| 469/469 [01:01<00:00,  7.61it/s]\n",
            " 21%|██▏       | 100/469 [00:44<02:42,  2.27it/s]\n"
          ]
        },
        {
          "metadata": {
            "tags": null
          },
          "name": "stdout",
          "output_type": "stream",
          "text": [
            "Transformer/FID: 320.29003749194317\n"
          ]
        },
        {
          "metadata": {
            "tags": null
          },
          "name": "stderr",
          "output_type": "stream",
          "text": [
            "100%|██████████| 469/469 [00:54<00:00,  8.54it/s]\n",
            " 21%|██▏       | 100/469 [00:43<02:42,  2.27it/s]\n"
          ]
        },
        {
          "metadata": {
            "tags": null
          },
          "name": "stdout",
          "output_type": "stream",
          "text": [
            "Transformer/FID: 339.34282088487976\n"
          ]
        },
        {
          "metadata": {
            "tags": null
          },
          "name": "stderr",
          "output_type": "stream",
          "text": [
            "100%|██████████| 469/469 [00:53<00:00,  8.71it/s]\n",
            " 21%|██▏       | 100/469 [00:43<02:42,  2.27it/s]\n"
          ]
        },
        {
          "metadata": {
            "tags": null
          },
          "name": "stdout",
          "output_type": "stream",
          "text": [
            "Transformer/FID: 475.5482651961655\n"
          ]
        },
        {
          "metadata": {
            "tags": null
          },
          "name": "stderr",
          "output_type": "stream",
          "text": [
            "100%|██████████| 469/469 [00:53<00:00,  8.70it/s]\n",
            " 21%|██▏       | 100/469 [00:43<02:42,  2.28it/s]\n"
          ]
        },
        {
          "metadata": {
            "tags": null
          },
          "name": "stdout",
          "output_type": "stream",
          "text": [
            "Transformer/FID: 409.1906989953284\n"
          ]
        },
        {
          "metadata": {
            "tags": null
          },
          "name": "stderr",
          "output_type": "stream",
          "text": [
            "100%|██████████| 469/469 [00:53<00:00,  8.71it/s]\n",
            " 21%|██▏       | 100/469 [00:43<02:42,  2.28it/s]\n"
          ]
        },
        {
          "metadata": {
            "tags": null
          },
          "name": "stdout",
          "output_type": "stream",
          "text": [
            "Transformer/FID: 418.84653530598575\n"
          ]
        },
        {
          "metadata": {
            "tags": null
          },
          "name": "stderr",
          "output_type": "stream",
          "text": [
            "100%|██████████| 469/469 [00:56<00:00,  8.27it/s]\n",
            " 21%|██▏       | 100/469 [00:44<02:42,  2.26it/s]\n"
          ]
        },
        {
          "metadata": {
            "tags": null
          },
          "name": "stdout",
          "output_type": "stream",
          "text": [
            "Transformer/FID: 344.30863236995447\n"
          ]
        },
        {
          "metadata": {
            "tags": null
          },
          "name": "stderr",
          "output_type": "stream",
          "text": [
            "100%|██████████| 469/469 [00:54<00:00,  8.65it/s]\n",
            " 21%|██▏       | 100/469 [00:43<02:42,  2.27it/s]\n"
          ]
        },
        {
          "metadata": {
            "tags": null
          },
          "name": "stdout",
          "output_type": "stream",
          "text": [
            "Transformer/FID: 270.44666486412063\n"
          ]
        },
        {
          "metadata": {
            "tags": null
          },
          "name": "stderr",
          "output_type": "stream",
          "text": [
            "100%|██████████| 469/469 [00:53<00:00,  8.72it/s]\n",
            " 21%|██▏       | 100/469 [00:43<02:42,  2.28it/s]\n"
          ]
        },
        {
          "metadata": {
            "tags": null
          },
          "name": "stdout",
          "output_type": "stream",
          "text": [
            "Transformer/FID: 256.4530814848264\n"
          ]
        },
        {
          "metadata": {
            "tags": null
          },
          "name": "stderr",
          "output_type": "stream",
          "text": [
            "100%|██████████| 469/469 [00:53<00:00,  8.71it/s]\n",
            " 21%|██▏       | 100/469 [00:43<02:42,  2.27it/s]\n"
          ]
        },
        {
          "metadata": {
            "tags": null
          },
          "name": "stdout",
          "output_type": "stream",
          "text": [
            "Transformer/FID: 257.5097982122761\n"
          ]
        },
        {
          "metadata": {
            "tags": null
          },
          "name": "stderr",
          "output_type": "stream",
          "text": [
            "100%|██████████| 469/469 [00:53<00:00,  8.73it/s]\n",
            " 21%|██▏       | 100/469 [00:43<02:42,  2.28it/s]\n"
          ]
        },
        {
          "metadata": {
            "tags": null
          },
          "name": "stdout",
          "output_type": "stream",
          "text": [
            "Transformer/FID: 227.33459219500693\n"
          ]
        },
        {
          "metadata": {
            "tags": null
          },
          "name": "stderr",
          "output_type": "stream",
          "text": [
            "100%|██████████| 469/469 [00:53<00:00,  8.74it/s]\n",
            " 21%|██▏       | 100/469 [00:43<02:42,  2.27it/s]\n"
          ]
        },
        {
          "metadata": {
            "tags": null
          },
          "name": "stdout",
          "output_type": "stream",
          "text": [
            "Transformer/FID: 214.0219776950554\n"
          ]
        },
        {
          "metadata": {
            "tags": null
          },
          "name": "stderr",
          "output_type": "stream",
          "text": [
            "100%|██████████| 469/469 [00:53<00:00,  8.70it/s]\n",
            " 21%|██▏       | 100/469 [00:43<02:42,  2.27it/s]\n"
          ]
        },
        {
          "metadata": {
            "tags": null
          },
          "name": "stdout",
          "output_type": "stream",
          "text": [
            "Transformer/FID: 199.20931178549904\n"
          ]
        },
        {
          "metadata": {
            "tags": null
          },
          "name": "stderr",
          "output_type": "stream",
          "text": [
            "100%|██████████| 469/469 [00:53<00:00,  8.76it/s]\n",
            " 21%|██▏       | 100/469 [00:44<02:42,  2.27it/s]\n"
          ]
        },
        {
          "metadata": {
            "tags": null
          },
          "name": "stdout",
          "output_type": "stream",
          "text": [
            "Transformer/FID: 173.2044558728798\n"
          ]
        },
        {
          "metadata": {
            "tags": null
          },
          "name": "stderr",
          "output_type": "stream",
          "text": [
            "100%|██████████| 469/469 [00:52<00:00,  8.89it/s]\n",
            " 21%|██▏       | 100/469 [00:43<02:41,  2.28it/s]\n"
          ]
        },
        {
          "metadata": {
            "tags": null
          },
          "name": "stdout",
          "output_type": "stream",
          "text": [
            "Transformer/FID: 159.09714359890165\n"
          ]
        },
        {
          "metadata": {
            "tags": null
          },
          "name": "stderr",
          "output_type": "stream",
          "text": [
            "100%|██████████| 469/469 [00:52<00:00,  8.89it/s]\n",
            " 21%|██▏       | 100/469 [00:44<02:42,  2.27it/s]\n"
          ]
        },
        {
          "metadata": {
            "tags": null
          },
          "name": "stdout",
          "output_type": "stream",
          "text": [
            "Transformer/FID: 152.80759663483565\n"
          ]
        },
        {
          "output_type": "stream",
          "name": "stderr",
          "text": [
            "100%|██████████| 469/469 [00:53<00:00,  8.75it/s]\n",
            " 21%|██▏       | 100/469 [00:43<02:42,  2.27it/s]\n"
          ]
        },
        {
          "output_type": "stream",
          "name": "stdout",
          "text": [
            "Transformer/FID: 171.1458000133205\n"
          ]
        },
        {
          "output_type": "stream",
          "name": "stderr",
          "text": [
            "100%|██████████| 469/469 [00:53<00:00,  8.70it/s]\n",
            " 21%|██▏       | 100/469 [00:44<02:42,  2.27it/s]\n"
          ]
        },
        {
          "output_type": "stream",
          "name": "stdout",
          "text": [
            "Transformer/FID: 143.44397379203468\n"
          ]
        },
        {
          "output_type": "stream",
          "name": "stderr",
          "text": [
            "100%|██████████| 469/469 [00:53<00:00,  8.73it/s]\n",
            " 21%|██▏       | 100/469 [00:43<02:42,  2.27it/s]\n"
          ]
        },
        {
          "output_type": "stream",
          "name": "stdout",
          "text": [
            "Transformer/FID: 167.97744661262544\n"
          ]
        },
        {
          "output_type": "stream",
          "name": "stderr",
          "text": [
            "100%|██████████| 469/469 [00:54<00:00,  8.67it/s]\n",
            " 21%|██▏       | 100/469 [00:44<02:42,  2.27it/s]\n"
          ]
        },
        {
          "output_type": "stream",
          "name": "stdout",
          "text": [
            "Transformer/FID: 156.1678363527323\n"
          ]
        },
        {
          "output_type": "stream",
          "name": "stderr",
          "text": [
            "100%|██████████| 469/469 [00:53<00:00,  8.69it/s]\n",
            " 21%|██▏       | 100/469 [00:43<02:42,  2.27it/s]\n"
          ]
        },
        {
          "output_type": "stream",
          "name": "stdout",
          "text": [
            "Transformer/FID: 151.50641939450594\n"
          ]
        },
        {
          "output_type": "stream",
          "name": "stderr",
          "text": [
            "100%|██████████| 469/469 [00:53<00:00,  8.71it/s]\n",
            " 21%|██▏       | 100/469 [00:44<02:42,  2.27it/s]\n"
          ]
        },
        {
          "output_type": "stream",
          "name": "stdout",
          "text": [
            "Transformer/FID: 138.41812294910622\n"
          ]
        },
        {
          "output_type": "stream",
          "name": "stderr",
          "text": [
            "100%|██████████| 469/469 [00:53<00:00,  8.74it/s]\n",
            " 21%|██▏       | 100/469 [00:43<02:42,  2.27it/s]\n"
          ]
        },
        {
          "output_type": "stream",
          "name": "stdout",
          "text": [
            "Transformer/FID: 124.42735664970706\n"
          ]
        },
        {
          "output_type": "stream",
          "name": "stderr",
          "text": [
            "100%|██████████| 469/469 [00:53<00:00,  8.73it/s]\n",
            " 21%|██▏       | 100/469 [00:44<02:42,  2.27it/s]\n"
          ]
        },
        {
          "output_type": "stream",
          "name": "stdout",
          "text": [
            "Transformer/FID: 140.88500258041154\n"
          ]
        },
        {
          "output_type": "stream",
          "name": "stderr",
          "text": [
            "100%|██████████| 469/469 [00:54<00:00,  8.67it/s]\n",
            " 21%|██▏       | 100/469 [00:43<02:42,  2.28it/s]\n"
          ]
        },
        {
          "output_type": "stream",
          "name": "stdout",
          "text": [
            "Transformer/FID: 125.21597653464903\n"
          ]
        },
        {
          "output_type": "stream",
          "name": "stderr",
          "text": [
            "100%|██████████| 469/469 [00:54<00:00,  8.65it/s]\n",
            " 21%|██▏       | 100/469 [00:44<02:42,  2.27it/s]\n"
          ]
        },
        {
          "output_type": "stream",
          "name": "stdout",
          "text": [
            "Transformer/FID: 112.12790366083263\n"
          ]
        },
        {
          "output_type": "stream",
          "name": "stderr",
          "text": [
            "100%|██████████| 469/469 [00:54<00:00,  8.65it/s]\n",
            " 21%|██▏       | 100/469 [00:43<02:42,  2.28it/s]\n"
          ]
        },
        {
          "output_type": "stream",
          "name": "stdout",
          "text": [
            "Transformer/FID: 121.74624114608338\n"
          ]
        },
        {
          "output_type": "stream",
          "name": "stderr",
          "text": [
            "100%|██████████| 469/469 [00:53<00:00,  8.69it/s]\n",
            " 21%|██▏       | 100/469 [00:44<02:42,  2.27it/s]\n"
          ]
        },
        {
          "output_type": "stream",
          "name": "stdout",
          "text": [
            "Transformer/FID: 126.99930386251535\n"
          ]
        },
        {
          "output_type": "stream",
          "name": "stderr",
          "text": [
            "100%|██████████| 469/469 [00:54<00:00,  8.67it/s]\n",
            " 21%|██▏       | 100/469 [00:43<02:42,  2.28it/s]\n"
          ]
        },
        {
          "output_type": "stream",
          "name": "stdout",
          "text": [
            "Transformer/FID: 122.44779929880093\n"
          ]
        },
        {
          "output_type": "stream",
          "name": "stderr",
          "text": [
            "100%|██████████| 469/469 [00:54<00:00,  8.66it/s]\n",
            " 21%|██▏       | 100/469 [00:44<02:42,  2.27it/s]\n"
          ]
        },
        {
          "output_type": "stream",
          "name": "stdout",
          "text": [
            "Transformer/FID: 139.7604396188832\n"
          ]
        },
        {
          "output_type": "stream",
          "name": "stderr",
          "text": [
            "100%|██████████| 469/469 [00:53<00:00,  8.71it/s]\n",
            " 21%|██▏       | 100/469 [00:43<02:42,  2.27it/s]\n"
          ]
        },
        {
          "output_type": "stream",
          "name": "stdout",
          "text": [
            "Transformer/FID: 111.3936525675253\n"
          ]
        }
      ]
    },
    {
      "cell_type": "code",
      "source": [
        "t.cat([t.tensor(j) for j in dxs[-100:]]).mean()\n",
        "# print([j.shape for j in dxs[-100:]])\n"
      ],
      "metadata": {
        "colab": {
          "base_uri": "https://localhost:8080/"
        },
        "id": "mU-AboTGAlI5",
        "outputId": "6d87dd23-a659-4e4f-ae08-17653185adb2"
      },
      "execution_count": null,
      "outputs": [
        {
          "output_type": "execute_result",
          "data": {
            "text/plain": [
              "tensor(0.8076)"
            ]
          },
          "metadata": {},
          "execution_count": 22
        }
      ]
    },
    {
      "cell_type": "code",
      "source": [
        "import matplotlib\n",
        "fig = plt.figure()\n",
        "ax = fig.add_subplot()\n",
        "ax.plot(fids)\n",
        "plt.title(\"FID Score vs Iteration\")\n",
        "ax.set_yscale('log')\n",
        "ax.yaxis.set_major_formatter(matplotlib.ticker.ScalarFormatter())\n",
        "ax.yaxis.set_minor_formatter(matplotlib.ticker.ScalarFormatter())\n",
        "fig.show()"
      ],
      "metadata": {
        "id": "6mwJ8TMqanXi"
      },
      "execution_count": null,
      "outputs": []
    },
    {
      "cell_type": "code",
      "source": [
        "\n",
        "with t.no_grad():\n",
        "  z = t.randn(50, latent_size).cuda()\n",
        "  # lab = t.nn.functional.one_hot(t.arange(50).cuda() % 10, num_classes = num_classes).float()\n",
        "\n",
        "  ims = gen(z).cpu()\n",
        "  _, axs = plt.subplots(5, 10)\n",
        "  axs = axs.flatten()\n",
        "  for im, ax in zip(ims, axs):\n",
        "    ax.axes.xaxis.set_visible(False)\n",
        "    ax.axes.yaxis.set_visible(False)\n",
        "    ax.imshow(im.squeeze(), cmap=\"gray_r\")\n",
        "  plt.show()"
      ],
      "metadata": {
        "id": "qbvwnOp9MyFe"
      },
      "execution_count": null,
      "outputs": []
    },
    {
      "cell_type": "code",
      "source": [
        "n = len(d_losses)\n",
        "plt.plot(range(n), d_losses, label=\"D\")\n",
        "plt.plot(range(n), g_losses, label=\"G\")\n",
        "plt.title(\"Generator and Disc Loss\")\n",
        "plt.legend()\n",
        "plt.show()"
      ],
      "metadata": {
        "id": "o0D6nmB832kO"
      },
      "execution_count": null,
      "outputs": []
    },
    {
      "cell_type": "code",
      "source": [
        "# t.save(gen.state_dict(), \"/content/drive/MyDrive/Sophomore/Neuro 140/models/conv-gen.pt\")\n",
        "# t.save(disc.state_dict(), \"/content/drive/MyDrive/Sophomore/Neuro 140/models/conv-disc.pt\")\n"
      ],
      "metadata": {
        "id": "BX6Ev8R0e3mQ"
      },
      "execution_count": null,
      "outputs": []
    },
    {
      "cell_type": "code",
      "source": [
        "from google.colab import drive\n",
        "drive.mount('/content/drive')"
      ],
      "metadata": {
        "id": "g58H7qTr0g7n"
      },
      "execution_count": null,
      "outputs": []
    },
    {
      "cell_type": "code",
      "source": [
        "gen2 = Generator()\n",
        "gen2.load_state_dict(t.load(\"/content/drive/MyDrive/Sophomore/Neuro 140/models/conv-gen.pt\"))\n",
        "\n",
        "gen2.cuda()\n",
        "with t.no_grad():\n",
        "  z = t.randn(50, latent_size).cuda()\n",
        "  # lab = t.nn.functional.one_hot(t.arange(50).cuda() % 10, num_classes = num_classes).float()\n",
        "\n",
        "  ims = gen2(z).cpu()\n",
        "  _, axs = plt.subplots(5, 10)\n",
        "  axs = axs.flatten()\n",
        "  for im, ax in zip(ims, axs):\n",
        "    ax.axes.xaxis.set_visible(False)\n",
        "    ax.axes.yaxis.set_visible(False)\n",
        "    ax.imshow(im.squeeze(), cmap=\"gray_r\")\n",
        "  plt.show()"
      ],
      "metadata": {
        "id": "Z053igcw0hst"
      },
      "execution_count": null,
      "outputs": []
    },
    {
      "cell_type": "code",
      "source": [
        "plt.plot([i for i in range(10)], range(10))"
      ],
      "metadata": {
        "id": "tZPvRcdY1C8D",
        "colab": {
          "base_uri": "https://localhost:8080/",
          "height": 283
        },
        "outputId": "a4a0429d-4ec4-4c07-c759-a4af5895b497"
      },
      "execution_count": null,
      "outputs": [
        {
          "output_type": "execute_result",
          "data": {
            "text/plain": [
              "[<matplotlib.lines.Line2D at 0x7f18e4d13950>]"
            ]
          },
          "metadata": {},
          "execution_count": 21
        },
        {
          "output_type": "display_data",
          "data": {
            "text/plain": [
              "<Figure size 432x288 with 1 Axes>"
            ],
            "image/png": "[encoded data removed]"
          },
          "metadata": {
            "needs_background": "light"
          }
        }
      ]
    },
    {
      "cell_type": "code",
      "source": [
        ""
      ],
      "metadata": {
        "id": "NL0dY_gbXHJo"
      },
      "execution_count": null,
      "outputs": []
    }
  ]
}